{
  "nbformat": 4,
  "nbformat_minor": 0,
  "metadata": {
    "colab": {
      "name": "operating-room-air-quality.ipynb",
      "provenance": [],
      "collapsed_sections": []
    },
    "kernelspec": {
      "name": "python3",
      "display_name": "Python 3"
    },
    "language_info": {
      "name": "python"
    }
  },
  "cells": [
    {
      "cell_type": "markdown",
      "metadata": {
        "id": "T2tDxktI94lu"
      },
      "source": [
        "## Get our environment set up\n",
        "\n",
        "The first thing we'll need to do is load in the libraries and datasets we'll be using. We'll working with one datasets containing information on air quality conditon (Humidity, temperature, pressure, CO2 levels) and numbers of microparticles (between 0.1 and 5 μm in size by m3 of air) in an operating room ."
      ]
    },
    {
      "cell_type": "code",
      "metadata": {
        "id": "-rBg23B4Nvi2"
      },
      "source": [
        "# Modules we'll use\n",
        "import pandas as pd\n",
        "import numpy as np\n",
        "\n",
        "# Define the names of the columns we want treated as dates or datetimes\n",
        "date_cols = ['ts']\n",
        "\n",
        "# Read in our data as a Pandas DataFrame\n",
        "df = pd.read_csv(\"/content/gams_indoor.csv\", parse_dates=date_cols)\n",
        "\n",
        "# set seed for reproducibility\n",
        "np.random.seed(0)"
      ],
      "execution_count": null,
      "outputs": []
    },
    {
      "cell_type": "markdown",
      "metadata": {
        "id": "AKKafQ9XPgSD"
      },
      "source": [
        "## Get sample of our dataset\n",
        "\n",
        "We simply display the first 5 row of our data."
      ]
    },
    {
      "cell_type": "code",
      "metadata": {
        "colab": {
          "base_uri": "https://localhost:8080/",
          "height": 204
        },
        "id": "44_kEgFx97xQ",
        "outputId": "5fc6f446-3f05-4ad0-cef1-9309d0edbcb6"
      },
      "source": [
        "df.head()"
      ],
      "execution_count": null,
      "outputs": [
        {
          "output_type": "execute_result",
          "data": {
            "text/html": [
              "<div>\n",
              "<style scoped>\n",
              "    .dataframe tbody tr th:only-of-type {\n",
              "        vertical-align: middle;\n",
              "    }\n",
              "\n",
              "    .dataframe tbody tr th {\n",
              "        vertical-align: top;\n",
              "    }\n",
              "\n",
              "    .dataframe thead th {\n",
              "        text-align: right;\n",
              "    }\n",
              "</style>\n",
              "<table border=\"1\" class=\"dataframe\">\n",
              "  <thead>\n",
              "    <tr style=\"text-align: right;\">\n",
              "      <th></th>\n",
              "      <th>ts</th>\n",
              "      <th>co2</th>\n",
              "      <th>humidity</th>\n",
              "      <th>pm10</th>\n",
              "      <th>pm25</th>\n",
              "      <th>temperature</th>\n",
              "      <th>voc</th>\n",
              "    </tr>\n",
              "  </thead>\n",
              "  <tbody>\n",
              "    <tr>\n",
              "      <th>0</th>\n",
              "      <td>2016-11-21 00:47:03</td>\n",
              "      <td>708.0</td>\n",
              "      <td>72.09</td>\n",
              "      <td>10.2</td>\n",
              "      <td>9.0</td>\n",
              "      <td>20.83</td>\n",
              "      <td>0.062</td>\n",
              "    </tr>\n",
              "    <tr>\n",
              "      <th>1</th>\n",
              "      <td>2016-11-21 00:48:03</td>\n",
              "      <td>694.0</td>\n",
              "      <td>70.95</td>\n",
              "      <td>10.9</td>\n",
              "      <td>10.1</td>\n",
              "      <td>21.01</td>\n",
              "      <td>0.062</td>\n",
              "    </tr>\n",
              "    <tr>\n",
              "      <th>2</th>\n",
              "      <td>2016-11-21 00:49:03</td>\n",
              "      <td>693.0</td>\n",
              "      <td>69.12</td>\n",
              "      <td>10.2</td>\n",
              "      <td>9.9</td>\n",
              "      <td>21.20</td>\n",
              "      <td>0.062</td>\n",
              "    </tr>\n",
              "    <tr>\n",
              "      <th>3</th>\n",
              "      <td>2016-11-21 00:50:03</td>\n",
              "      <td>692.0</td>\n",
              "      <td>68.83</td>\n",
              "      <td>9.6</td>\n",
              "      <td>9.6</td>\n",
              "      <td>21.37</td>\n",
              "      <td>0.062</td>\n",
              "    </tr>\n",
              "    <tr>\n",
              "      <th>4</th>\n",
              "      <td>2016-11-21 00:51:03</td>\n",
              "      <td>690.0</td>\n",
              "      <td>68.60</td>\n",
              "      <td>9.4</td>\n",
              "      <td>8.4</td>\n",
              "      <td>21.49</td>\n",
              "      <td>0.062</td>\n",
              "    </tr>\n",
              "  </tbody>\n",
              "</table>\n",
              "</div>"
            ],
            "text/plain": [
              "                   ts    co2  humidity  pm10  pm25  temperature    voc\n",
              "0 2016-11-21 00:47:03  708.0     72.09  10.2   9.0        20.83  0.062\n",
              "1 2016-11-21 00:48:03  694.0     70.95  10.9  10.1        21.01  0.062\n",
              "2 2016-11-21 00:49:03  693.0     69.12  10.2   9.9        21.20  0.062\n",
              "3 2016-11-21 00:50:03  692.0     68.83   9.6   9.6        21.37  0.062\n",
              "4 2016-11-21 00:51:03  690.0     68.60   9.4   8.4        21.49  0.062"
            ]
          },
          "metadata": {
            "tags": []
          },
          "execution_count": 76
        }
      ]
    },
    {
      "cell_type": "markdown",
      "metadata": {
        "id": "cs3n38HSUEHI"
      },
      "source": [
        "## Get the features of our dataset\n",
        "\n",
        "As we have just explained above, we have  characteristics to measure to define if an operating room has an infectious risk: \n",
        "\n",
        "*   microparticles by size (< 10 μm and < 2.5μm)\n",
        "*   temperature\n",
        "*   pressure\n",
        "*   CO2 levels\n",
        "*   humidity\n",
        "\n",
        "### Categorical columns\n",
        "\n",
        "`risk` is our categorical column that defines the level of infectious risk depending on the differents features of a row ( at a given point in time) \n",
        "\n",
        "### Date type columns\n",
        "\n",
        "`ts`  column contains date format values. So the first things to do is to make sure that the data type of this column is the right one.\n",
        "\n"
      ]
    },
    {
      "cell_type": "code",
      "metadata": {
        "colab": {
          "base_uri": "https://localhost:8080/"
        },
        "id": "OlOFGo8FTukE",
        "outputId": "f820b91b-0f22-4fff-bc2d-f0f0f12088ca"
      },
      "source": [
        "# We print the differents columns of our DataFrame\n",
        "for col in df.columns:\n",
        "    print(col)"
      ],
      "execution_count": null,
      "outputs": [
        {
          "output_type": "stream",
          "text": [
            "ts\n",
            "co2\n",
            "humidity\n",
            "pm10\n",
            "pm25\n",
            "temperature\n",
            "voc\n"
          ],
          "name": "stdout"
        }
      ]
    },
    {
      "cell_type": "markdown",
      "metadata": {
        "id": "4k4qLheRuKL1"
      },
      "source": [
        "# Process for labeling raw data \n",
        "\n",
        "First and foremost, we need to \"manually\" label our data "
      ]
    },
    {
      "cell_type": "markdown",
      "metadata": {
        "id": "OEsV2qR7jSjt"
      },
      "source": [
        "# Data Cleaning"
      ]
    },
    {
      "cell_type": "markdown",
      "metadata": {
        "id": "1sYB7AwtjY_D"
      },
      "source": [
        "## Parsing Dates"
      ]
    },
    {
      "cell_type": "markdown",
      "metadata": {
        "id": "P_5v1mWvY8C8"
      },
      "source": [
        "### Checkout our dates dtype\n",
        "\n",
        "Because the dtype of our column is `object` rather than `datetime64`, we can tell that Python doesn't know that this column contains dates."
      ]
    },
    {
      "cell_type": "code",
      "metadata": {
        "colab": {
          "base_uri": "https://localhost:8080/"
        },
        "id": "n0vfbbCsQVbp",
        "outputId": "e07b21e9-2e15-4b9b-b3b3-d5b5d34b11f7"
      },
      "source": [
        "print(df['ts'].head())"
      ],
      "execution_count": null,
      "outputs": [
        {
          "output_type": "stream",
          "text": [
            "0   2016-11-21 00:47:03\n",
            "1   2016-11-21 00:48:03\n",
            "2   2016-11-21 00:49:03\n",
            "3   2016-11-21 00:50:03\n",
            "4   2016-11-21 00:51:03\n",
            "Name: ts, dtype: datetime64[ns]\n"
          ],
          "name": "stdout"
        }
      ]
    },
    {
      "cell_type": "markdown",
      "metadata": {
        "id": "D1cNRnhYZIRN"
      },
      "source": [
        "### Convert our date columns to datetime\n",
        "\n",
        "We can use a guide called as [\"strftime directive\"](https://strftime.org/) to indentify the format of our dates. For example: \n",
        "\n",
        "\n",
        "*   The `date` column has values with the format `%X`\n",
        "\n"
      ]
    },
    {
      "cell_type": "code",
      "metadata": {
        "id": "BiVS_Jc7Zfg0"
      },
      "source": [
        "# update the \"date\" column with the parsed dates\n",
        "df['ts'] = pd.to_datetime(df['ts'], errors='coerce', format = \"%x\")"
      ],
      "execution_count": null,
      "outputs": []
    },
    {
      "cell_type": "markdown",
      "metadata": {
        "id": "OvRUSuG6f0qu"
      },
      "source": [
        "Now when we check the first few rows of the new column, we can see that the dtype is `datetime64`."
      ]
    },
    {
      "cell_type": "code",
      "metadata": {
        "colab": {
          "base_uri": "https://localhost:8080/"
        },
        "id": "uEH28QorbmG8",
        "outputId": "198967a1-4187-4068-b8a9-967035b8bcb8"
      },
      "source": [
        "df['ts'].head()"
      ],
      "execution_count": null,
      "outputs": [
        {
          "output_type": "execute_result",
          "data": {
            "text/plain": [
              "0   2016-11-21 00:47:03\n",
              "1   2016-11-21 00:48:03\n",
              "2   2016-11-21 00:49:03\n",
              "3   2016-11-21 00:50:03\n",
              "4   2016-11-21 00:51:03\n",
              "Name: ts, dtype: datetime64[ns]"
            ]
          },
          "metadata": {
            "tags": []
          },
          "execution_count": 80
        }
      ]
    }
  ]
}