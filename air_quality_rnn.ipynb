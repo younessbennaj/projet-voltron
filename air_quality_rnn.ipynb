{
  "nbformat": 4,
  "nbformat_minor": 0,
  "metadata": {
    "colab": {
      "name": "air_quality_rnn.ipynb",
      "provenance": []
    },
    "kernelspec": {
      "name": "python3",
      "display_name": "Python 3"
    },
    "language_info": {
      "name": "python"
    }
  },
  "cells": [
    {
      "cell_type": "markdown",
      "metadata": {
        "id": "BZHKz_9_0dY3"
      },
      "source": [
        "# Get our environment set up\n",
        "\n",
        "The first thing we'll need to do is load in the libraries and datasets we'll be using. We'll working with one datasets containing information on air quality conditon (Humidity, temperature, pressure, CO2 levels) and numbers of microparticles (between 0.1 and 5 μm in size by m3 of air) in an operating room ."
      ]
    },
    {
      "cell_type": "code",
      "metadata": {
        "id": "uoXMyjEp0G13"
      },
      "source": [
        "# Modules we'll use\n",
        "import pandas as pd\n",
        "import numpy as np\n",
        "import seaborn as sns\n",
        "import matplotlib.pylab as plt\n",
        "import datetime as dt\n",
        "\n",
        "# Read in our data as a Pandas DataFrame\n",
        "df = pd.read_csv(\"/content/gams_indoor.csv\", parse_dates=True, index_col=\"ts\")\n",
        "\n",
        "# set theme with seaborn\n",
        "sns.set_theme(style=\"darkgrid\")"
      ],
      "execution_count": 119,
      "outputs": []
    },
    {
      "cell_type": "markdown",
      "metadata": {
        "id": "P1Ei2yG81gG-"
      },
      "source": [
        "# Get sample of our dataset\n",
        "\n",
        "We simply display the first 5 row of our data."
      ]
    },
    {
      "cell_type": "code",
      "metadata": {
        "colab": {
          "base_uri": "https://localhost:8080/",
          "height": 235
        },
        "id": "e9SK9Efn1iQY",
        "outputId": "db06f36c-973b-4c6b-8ead-5631fef47683"
      },
      "source": [
        "df.head()"
      ],
      "execution_count": 122,
      "outputs": [
        {
          "output_type": "execute_result",
          "data": {
            "text/html": [
              "<div>\n",
              "<style scoped>\n",
              "    .dataframe tbody tr th:only-of-type {\n",
              "        vertical-align: middle;\n",
              "    }\n",
              "\n",
              "    .dataframe tbody tr th {\n",
              "        vertical-align: top;\n",
              "    }\n",
              "\n",
              "    .dataframe thead th {\n",
              "        text-align: right;\n",
              "    }\n",
              "</style>\n",
              "<table border=\"1\" class=\"dataframe\">\n",
              "  <thead>\n",
              "    <tr style=\"text-align: right;\">\n",
              "      <th></th>\n",
              "      <th>co2</th>\n",
              "      <th>humidity</th>\n",
              "      <th>pm10</th>\n",
              "      <th>pm25</th>\n",
              "      <th>temperature</th>\n",
              "      <th>voc</th>\n",
              "    </tr>\n",
              "    <tr>\n",
              "      <th>ts</th>\n",
              "      <th></th>\n",
              "      <th></th>\n",
              "      <th></th>\n",
              "      <th></th>\n",
              "      <th></th>\n",
              "      <th></th>\n",
              "    </tr>\n",
              "  </thead>\n",
              "  <tbody>\n",
              "    <tr>\n",
              "      <th>2016-11-21 00:47:03</th>\n",
              "      <td>708.0</td>\n",
              "      <td>72.09</td>\n",
              "      <td>10.2</td>\n",
              "      <td>9.0</td>\n",
              "      <td>20.83</td>\n",
              "      <td>0.062</td>\n",
              "    </tr>\n",
              "    <tr>\n",
              "      <th>2016-11-21 00:48:03</th>\n",
              "      <td>694.0</td>\n",
              "      <td>70.95</td>\n",
              "      <td>10.9</td>\n",
              "      <td>10.1</td>\n",
              "      <td>21.01</td>\n",
              "      <td>0.062</td>\n",
              "    </tr>\n",
              "    <tr>\n",
              "      <th>2016-11-21 00:49:03</th>\n",
              "      <td>693.0</td>\n",
              "      <td>69.12</td>\n",
              "      <td>10.2</td>\n",
              "      <td>9.9</td>\n",
              "      <td>21.20</td>\n",
              "      <td>0.062</td>\n",
              "    </tr>\n",
              "    <tr>\n",
              "      <th>2016-11-21 00:50:03</th>\n",
              "      <td>692.0</td>\n",
              "      <td>68.83</td>\n",
              "      <td>9.6</td>\n",
              "      <td>9.6</td>\n",
              "      <td>21.37</td>\n",
              "      <td>0.062</td>\n",
              "    </tr>\n",
              "    <tr>\n",
              "      <th>2016-11-21 00:51:03</th>\n",
              "      <td>690.0</td>\n",
              "      <td>68.60</td>\n",
              "      <td>9.4</td>\n",
              "      <td>8.4</td>\n",
              "      <td>21.49</td>\n",
              "      <td>0.062</td>\n",
              "    </tr>\n",
              "  </tbody>\n",
              "</table>\n",
              "</div>"
            ],
            "text/plain": [
              "                       co2  humidity  pm10  pm25  temperature    voc\n",
              "ts                                                                  \n",
              "2016-11-21 00:47:03  708.0     72.09  10.2   9.0        20.83  0.062\n",
              "2016-11-21 00:48:03  694.0     70.95  10.9  10.1        21.01  0.062\n",
              "2016-11-21 00:49:03  693.0     69.12  10.2   9.9        21.20  0.062\n",
              "2016-11-21 00:50:03  692.0     68.83   9.6   9.6        21.37  0.062\n",
              "2016-11-21 00:51:03  690.0     68.60   9.4   8.4        21.49  0.062"
            ]
          },
          "metadata": {
            "tags": []
          },
          "execution_count": 122
        }
      ]
    },
    {
      "cell_type": "code",
      "metadata": {
        "colab": {
          "base_uri": "https://localhost:8080/",
          "height": 235
        },
        "id": "mSLSHcjXbDgG",
        "outputId": "641b458b-37bf-4653-933d-a0a91292bc5f"
      },
      "source": [
        "df.tail()"
      ],
      "execution_count": 135,
      "outputs": [
        {
          "output_type": "execute_result",
          "data": {
            "text/html": [
              "<div>\n",
              "<style scoped>\n",
              "    .dataframe tbody tr th:only-of-type {\n",
              "        vertical-align: middle;\n",
              "    }\n",
              "\n",
              "    .dataframe tbody tr th {\n",
              "        vertical-align: top;\n",
              "    }\n",
              "\n",
              "    .dataframe thead th {\n",
              "        text-align: right;\n",
              "    }\n",
              "</style>\n",
              "<table border=\"1\" class=\"dataframe\">\n",
              "  <thead>\n",
              "    <tr style=\"text-align: right;\">\n",
              "      <th></th>\n",
              "      <th>co2</th>\n",
              "      <th>humidity</th>\n",
              "      <th>pm10</th>\n",
              "      <th>pm25</th>\n",
              "      <th>temperature</th>\n",
              "      <th>voc</th>\n",
              "    </tr>\n",
              "    <tr>\n",
              "      <th>ts</th>\n",
              "      <th></th>\n",
              "      <th></th>\n",
              "      <th></th>\n",
              "      <th></th>\n",
              "      <th></th>\n",
              "      <th></th>\n",
              "    </tr>\n",
              "  </thead>\n",
              "  <tbody>\n",
              "    <tr>\n",
              "      <th>2017-03-28 09:26:03</th>\n",
              "      <td>1359.0</td>\n",
              "      <td>39.55</td>\n",
              "      <td>6.3</td>\n",
              "      <td>4.4</td>\n",
              "      <td>26.93</td>\n",
              "      <td>0.148</td>\n",
              "    </tr>\n",
              "    <tr>\n",
              "      <th>2017-03-28 09:27:03</th>\n",
              "      <td>1350.0</td>\n",
              "      <td>39.49</td>\n",
              "      <td>5.6</td>\n",
              "      <td>4.2</td>\n",
              "      <td>26.92</td>\n",
              "      <td>0.152</td>\n",
              "    </tr>\n",
              "    <tr>\n",
              "      <th>2017-03-28 09:28:03</th>\n",
              "      <td>1353.0</td>\n",
              "      <td>39.42</td>\n",
              "      <td>6.3</td>\n",
              "      <td>4.6</td>\n",
              "      <td>26.91</td>\n",
              "      <td>0.147</td>\n",
              "    </tr>\n",
              "    <tr>\n",
              "      <th>2017-03-28 09:29:03</th>\n",
              "      <td>1348.0</td>\n",
              "      <td>39.55</td>\n",
              "      <td>5.7</td>\n",
              "      <td>4.3</td>\n",
              "      <td>26.92</td>\n",
              "      <td>0.148</td>\n",
              "    </tr>\n",
              "    <tr>\n",
              "      <th>2017-03-28 09:30:03</th>\n",
              "      <td>1363.0</td>\n",
              "      <td>39.55</td>\n",
              "      <td>5.8</td>\n",
              "      <td>4.2</td>\n",
              "      <td>26.90</td>\n",
              "      <td>0.139</td>\n",
              "    </tr>\n",
              "  </tbody>\n",
              "</table>\n",
              "</div>"
            ],
            "text/plain": [
              "                        co2  humidity  pm10  pm25  temperature    voc\n",
              "ts                                                                   \n",
              "2017-03-28 09:26:03  1359.0     39.55   6.3   4.4        26.93  0.148\n",
              "2017-03-28 09:27:03  1350.0     39.49   5.6   4.2        26.92  0.152\n",
              "2017-03-28 09:28:03  1353.0     39.42   6.3   4.6        26.91  0.147\n",
              "2017-03-28 09:29:03  1348.0     39.55   5.7   4.3        26.92  0.148\n",
              "2017-03-28 09:30:03  1363.0     39.55   5.8   4.2        26.90  0.139"
            ]
          },
          "metadata": {
            "tags": []
          },
          "execution_count": 135
        }
      ]
    },
    {
      "cell_type": "code",
      "metadata": {
        "colab": {
          "base_uri": "https://localhost:8080/"
        },
        "id": "MjpFeVdwZftt",
        "outputId": "b1baf9d5-b926-47d5-f1d9-e4573c53d112"
      },
      "source": [
        "df.info()"
      ],
      "execution_count": 123,
      "outputs": [
        {
          "output_type": "stream",
          "text": [
            "<class 'pandas.core.frame.DataFrame'>\n",
            "DatetimeIndex: 135099 entries, 2016-11-21 00:47:03 to 2017-03-28 09:30:03\n",
            "Data columns (total 6 columns):\n",
            " #   Column       Non-Null Count   Dtype  \n",
            "---  ------       --------------   -----  \n",
            " 0   co2          135099 non-null  float64\n",
            " 1   humidity     135099 non-null  float64\n",
            " 2   pm10         135099 non-null  float64\n",
            " 3   pm25         135099 non-null  float64\n",
            " 4   temperature  135099 non-null  float64\n",
            " 5   voc          135099 non-null  float64\n",
            "dtypes: float64(6)\n",
            "memory usage: 7.2 MB\n"
          ],
          "name": "stdout"
        }
      ]
    },
    {
      "cell_type": "markdown",
      "metadata": {
        "id": "R4iaaEN52h6z"
      },
      "source": [
        "# Get humidity time serie\n",
        "\n",
        "In the first place, we need to explain how a time serie works. To illustrate that, we will test a simple RNN on a time serie with humidity. This new dataframe will be our training dataset to predict the future measure of humidity. "
      ]
    },
    {
      "cell_type": "code",
      "metadata": {
        "colab": {
          "base_uri": "https://localhost:8080/",
          "height": 379
        },
        "id": "Cpp9-wJZ17_j",
        "outputId": "4fbae774-0373-4635-b805-5440a9ae1132"
      },
      "source": [
        "# We create a new dataFrame for humidity \n",
        "humidity_df = df[['humidity']]\n",
        "humidity_df.info()\n",
        "humidity_df.head()"
      ],
      "execution_count": 126,
      "outputs": [
        {
          "output_type": "stream",
          "text": [
            "<class 'pandas.core.frame.DataFrame'>\n",
            "DatetimeIndex: 135099 entries, 2016-11-21 00:47:03 to 2017-03-28 09:30:03\n",
            "Data columns (total 1 columns):\n",
            " #   Column    Non-Null Count   Dtype  \n",
            "---  ------    --------------   -----  \n",
            " 0   humidity  135099 non-null  float64\n",
            "dtypes: float64(1)\n",
            "memory usage: 2.1 MB\n"
          ],
          "name": "stdout"
        },
        {
          "output_type": "execute_result",
          "data": {
            "text/html": [
              "<div>\n",
              "<style scoped>\n",
              "    .dataframe tbody tr th:only-of-type {\n",
              "        vertical-align: middle;\n",
              "    }\n",
              "\n",
              "    .dataframe tbody tr th {\n",
              "        vertical-align: top;\n",
              "    }\n",
              "\n",
              "    .dataframe thead th {\n",
              "        text-align: right;\n",
              "    }\n",
              "</style>\n",
              "<table border=\"1\" class=\"dataframe\">\n",
              "  <thead>\n",
              "    <tr style=\"text-align: right;\">\n",
              "      <th></th>\n",
              "      <th>humidity</th>\n",
              "    </tr>\n",
              "    <tr>\n",
              "      <th>ts</th>\n",
              "      <th></th>\n",
              "    </tr>\n",
              "  </thead>\n",
              "  <tbody>\n",
              "    <tr>\n",
              "      <th>2016-11-21 00:47:03</th>\n",
              "      <td>72.09</td>\n",
              "    </tr>\n",
              "    <tr>\n",
              "      <th>2016-11-21 00:48:03</th>\n",
              "      <td>70.95</td>\n",
              "    </tr>\n",
              "    <tr>\n",
              "      <th>2016-11-21 00:49:03</th>\n",
              "      <td>69.12</td>\n",
              "    </tr>\n",
              "    <tr>\n",
              "      <th>2016-11-21 00:50:03</th>\n",
              "      <td>68.83</td>\n",
              "    </tr>\n",
              "    <tr>\n",
              "      <th>2016-11-21 00:51:03</th>\n",
              "      <td>68.60</td>\n",
              "    </tr>\n",
              "  </tbody>\n",
              "</table>\n",
              "</div>"
            ],
            "text/plain": [
              "                     humidity\n",
              "ts                           \n",
              "2016-11-21 00:47:03     72.09\n",
              "2016-11-21 00:48:03     70.95\n",
              "2016-11-21 00:49:03     69.12\n",
              "2016-11-21 00:50:03     68.83\n",
              "2016-11-21 00:51:03     68.60"
            ]
          },
          "metadata": {
            "tags": []
          },
          "execution_count": 126
        }
      ]
    },
    {
      "cell_type": "code",
      "metadata": {
        "colab": {
          "base_uri": "https://localhost:8080/",
          "height": 371
        },
        "id": "I2s2E37W3F7c",
        "outputId": "c3b2d10f-13af-481c-fa31-f584364846d7"
      },
      "source": [
        "# Almost a sequence for 1 hour \n",
        "sns.lineplot(data=humidity_df[:60], x=\"ts\", y='humidity')\n",
        "plt.xticks(rotation=45)"
      ],
      "execution_count": 240,
      "outputs": [
        {
          "output_type": "execute_result",
          "data": {
            "text/plain": [
              "(array([736289.03472222, 736289.04166667, 736289.04861111, 736289.05555556,\n",
              "        736289.0625    , 736289.06944444, 736289.07638889, 736289.08333333]),\n",
              " <a list of 8 Text major ticklabel objects>)"
            ]
          },
          "metadata": {
            "tags": []
          },
          "execution_count": 240
        },
        {
          "output_type": "display_data",
          "data": {
            "image/png": "[encoded data removed]",
            "text/plain": [
              "<Figure size 432x288 with 1 Axes>"
            ]
          },
          "metadata": {
            "tags": []
          }
        }
      ]
    },
    {
      "cell_type": "code",
      "metadata": {
        "colab": {
          "base_uri": "https://localhost:8080/",
          "height": 371
        },
        "id": "5adob8dVbeVd",
        "outputId": "0db8acaa-68d0-4e20-84eb-a95c4690aeb0"
      },
      "source": [
        "sns.lineplot(data=humidity_df.tail(60), x=\"ts\", y='humidity')\n",
        "plt.xticks(rotation=45)"
      ],
      "execution_count": 241,
      "outputs": [
        {
          "output_type": "execute_result",
          "data": {
            "text/plain": [
              "(array([736416.35416667, 736416.36111111, 736416.36805556, 736416.375     ,\n",
              "        736416.38194444, 736416.38888889, 736416.39583333]),\n",
              " <a list of 7 Text major ticklabel objects>)"
            ]
          },
          "metadata": {
            "tags": []
          },
          "execution_count": 241
        },
        {
          "output_type": "display_data",
          "data": {
            "image/png": "[encoded data removed]",
            "text/plain": [
              "<Figure size 432x288 with 1 Axes>"
            ]
          },
          "metadata": {
            "tags": []
          }
        }
      ]
    },
    {
      "cell_type": "code",
      "metadata": {
        "colab": {
          "base_uri": "https://localhost:8080/",
          "height": 371
        },
        "id": "Mzssn9SojUJI",
        "outputId": "e28d5f5d-a5fe-4bbb-8e8c-53e89d937873"
      },
      "source": [
        "# Almost a sequence for 1 day \n",
        "sns.lineplot(data=humidity_df[:700], x=\"ts\", y='humidity')\n",
        "plt.xticks(rotation=45)"
      ],
      "execution_count": 242,
      "outputs": [
        {
          "output_type": "execute_result",
          "data": {
            "text/plain": [
              "(array([736289.   , 736289.125, 736289.25 , 736289.375, 736289.5  ,\n",
              "        736289.625, 736289.75 , 736289.875, 736290.   ]),\n",
              " <a list of 9 Text major ticklabel objects>)"
            ]
          },
          "metadata": {
            "tags": []
          },
          "execution_count": 242
        },
        {
          "output_type": "display_data",
          "data": {
            "image/png": "[encoded data removed]",
            "text/plain": [
              "<Figure size 432x288 with 1 Axes>"
            ]
          },
          "metadata": {
            "tags": []
          }
        }
      ]
    },
    {
      "cell_type": "markdown",
      "metadata": {
        "id": "F6zmuteX9tQS"
      },
      "source": [
        "# How to get our training and test dataset\n",
        "\n",
        "We need to extract some data from the end of the dataset to build our test dataset and keep the rest to build the training dataset. \n",
        "\n",
        "For time ressources purpose, we only use 1 week of data to train and test our model. "
      ]
    },
    {
      "cell_type": "code",
      "metadata": {
        "colab": {
          "base_uri": "https://localhost:8080/",
          "height": 450
        },
        "id": "JDZP0VOOjnRp",
        "outputId": "4232fd09-0219-43f1-b561-5c90a4fd5ae5"
      },
      "source": [
        "humidity_day_df = humidity_df[:700]\n",
        "humidity_day_df"
      ],
      "execution_count": 244,
      "outputs": [
        {
          "output_type": "execute_result",
          "data": {
            "text/html": [
              "<div>\n",
              "<style scoped>\n",
              "    .dataframe tbody tr th:only-of-type {\n",
              "        vertical-align: middle;\n",
              "    }\n",
              "\n",
              "    .dataframe tbody tr th {\n",
              "        vertical-align: top;\n",
              "    }\n",
              "\n",
              "    .dataframe thead th {\n",
              "        text-align: right;\n",
              "    }\n",
              "</style>\n",
              "<table border=\"1\" class=\"dataframe\">\n",
              "  <thead>\n",
              "    <tr style=\"text-align: right;\">\n",
              "      <th></th>\n",
              "      <th>humidity</th>\n",
              "    </tr>\n",
              "    <tr>\n",
              "      <th>ts</th>\n",
              "      <th></th>\n",
              "    </tr>\n",
              "  </thead>\n",
              "  <tbody>\n",
              "    <tr>\n",
              "      <th>2016-11-21 00:47:03</th>\n",
              "      <td>72.09</td>\n",
              "    </tr>\n",
              "    <tr>\n",
              "      <th>2016-11-21 00:48:03</th>\n",
              "      <td>70.95</td>\n",
              "    </tr>\n",
              "    <tr>\n",
              "      <th>2016-11-21 00:49:03</th>\n",
              "      <td>69.12</td>\n",
              "    </tr>\n",
              "    <tr>\n",
              "      <th>2016-11-21 00:50:03</th>\n",
              "      <td>68.83</td>\n",
              "    </tr>\n",
              "    <tr>\n",
              "      <th>2016-11-21 00:51:03</th>\n",
              "      <td>68.60</td>\n",
              "    </tr>\n",
              "    <tr>\n",
              "      <th>...</th>\n",
              "      <td>...</td>\n",
              "    </tr>\n",
              "    <tr>\n",
              "      <th>2016-11-21 23:42:02</th>\n",
              "      <td>56.10</td>\n",
              "    </tr>\n",
              "    <tr>\n",
              "      <th>2016-11-21 23:46:02</th>\n",
              "      <td>55.76</td>\n",
              "    </tr>\n",
              "    <tr>\n",
              "      <th>2016-11-21 23:48:02</th>\n",
              "      <td>55.90</td>\n",
              "    </tr>\n",
              "    <tr>\n",
              "      <th>2016-11-21 23:52:02</th>\n",
              "      <td>55.69</td>\n",
              "    </tr>\n",
              "    <tr>\n",
              "      <th>2016-11-21 23:53:02</th>\n",
              "      <td>55.63</td>\n",
              "    </tr>\n",
              "  </tbody>\n",
              "</table>\n",
              "<p>700 rows × 1 columns</p>\n",
              "</div>"
            ],
            "text/plain": [
              "                     humidity\n",
              "ts                           \n",
              "2016-11-21 00:47:03     72.09\n",
              "2016-11-21 00:48:03     70.95\n",
              "2016-11-21 00:49:03     69.12\n",
              "2016-11-21 00:50:03     68.83\n",
              "2016-11-21 00:51:03     68.60\n",
              "...                       ...\n",
              "2016-11-21 23:42:02     56.10\n",
              "2016-11-21 23:46:02     55.76\n",
              "2016-11-21 23:48:02     55.90\n",
              "2016-11-21 23:52:02     55.69\n",
              "2016-11-21 23:53:02     55.63\n",
              "\n",
              "[700 rows x 1 columns]"
            ]
          },
          "metadata": {
            "tags": []
          },
          "execution_count": 244
        }
      ]
    },
    {
      "cell_type": "code",
      "metadata": {
        "colab": {
          "base_uri": "https://localhost:8080/"
        },
        "id": "7P56DcxT-dZI",
        "outputId": "5803075d-cb4e-4253-dfbc-45642a693f37"
      },
      "source": [
        "# The size of the dataset ?\n",
        "len(humidity_day_df)"
      ],
      "execution_count": 245,
      "outputs": [
        {
          "output_type": "execute_result",
          "data": {
            "text/plain": [
              "700"
            ]
          },
          "metadata": {
            "tags": []
          },
          "execution_count": 245
        }
      ]
    },
    {
      "cell_type": "code",
      "metadata": {
        "id": "mjKQU0fM9wd9"
      },
      "source": [
        "# the size on our test dataset must be greater than 1 hour (almost 1.5)\n",
        "test_size = 45"
      ],
      "execution_count": 247,
      "outputs": []
    },
    {
      "cell_type": "code",
      "metadata": {
        "colab": {
          "base_uri": "https://localhost:8080/"
        },
        "id": "SC-6r5cHdc_0",
        "outputId": "b7a7eaab-9304-4ca5-bb4c-5af4ff5c889e"
      },
      "source": [
        "len(humidity_day_df) - test_size"
      ],
      "execution_count": 248,
      "outputs": [
        {
          "output_type": "execute_result",
          "data": {
            "text/plain": [
              "655"
            ]
          },
          "metadata": {
            "tags": []
          },
          "execution_count": 248
        }
      ]
    },
    {
      "cell_type": "code",
      "metadata": {
        "colab": {
          "base_uri": "https://localhost:8080/"
        },
        "id": "6oacmBcx-4cT",
        "outputId": "bb9732ab-f294-4db0-d92b-009f11380d3a"
      },
      "source": [
        "# We get our slice point (from the end of the dataset)\n",
        "test_ind = len(humidity_day_df) - test_size\n",
        "print(test_ind)"
      ],
      "execution_count": 249,
      "outputs": [
        {
          "output_type": "stream",
          "text": [
            "655\n"
          ],
          "name": "stdout"
        }
      ]
    },
    {
      "cell_type": "code",
      "metadata": {
        "colab": {
          "base_uri": "https://localhost:8080/",
          "height": 450
        },
        "id": "1fcH_swD_uR8",
        "outputId": "327b6e9d-9c6a-47f3-ec8f-dfc3090434a5"
      },
      "source": [
        "# We get our training dataset\n",
        "train = humidity_day_df.iloc[:test_ind]\n",
        "train"
      ],
      "execution_count": 250,
      "outputs": [
        {
          "output_type": "execute_result",
          "data": {
            "text/html": [
              "<div>\n",
              "<style scoped>\n",
              "    .dataframe tbody tr th:only-of-type {\n",
              "        vertical-align: middle;\n",
              "    }\n",
              "\n",
              "    .dataframe tbody tr th {\n",
              "        vertical-align: top;\n",
              "    }\n",
              "\n",
              "    .dataframe thead th {\n",
              "        text-align: right;\n",
              "    }\n",
              "</style>\n",
              "<table border=\"1\" class=\"dataframe\">\n",
              "  <thead>\n",
              "    <tr style=\"text-align: right;\">\n",
              "      <th></th>\n",
              "      <th>humidity</th>\n",
              "    </tr>\n",
              "    <tr>\n",
              "      <th>ts</th>\n",
              "      <th></th>\n",
              "    </tr>\n",
              "  </thead>\n",
              "  <tbody>\n",
              "    <tr>\n",
              "      <th>2016-11-21 00:47:03</th>\n",
              "      <td>72.09</td>\n",
              "    </tr>\n",
              "    <tr>\n",
              "      <th>2016-11-21 00:48:03</th>\n",
              "      <td>70.95</td>\n",
              "    </tr>\n",
              "    <tr>\n",
              "      <th>2016-11-21 00:49:03</th>\n",
              "      <td>69.12</td>\n",
              "    </tr>\n",
              "    <tr>\n",
              "      <th>2016-11-21 00:50:03</th>\n",
              "      <td>68.83</td>\n",
              "    </tr>\n",
              "    <tr>\n",
              "      <th>2016-11-21 00:51:03</th>\n",
              "      <td>68.60</td>\n",
              "    </tr>\n",
              "    <tr>\n",
              "      <th>...</th>\n",
              "      <td>...</td>\n",
              "    </tr>\n",
              "    <tr>\n",
              "      <th>2016-11-21 22:19:02</th>\n",
              "      <td>56.42</td>\n",
              "    </tr>\n",
              "    <tr>\n",
              "      <th>2016-11-21 22:20:02</th>\n",
              "      <td>56.35</td>\n",
              "    </tr>\n",
              "    <tr>\n",
              "      <th>2016-11-21 22:22:02</th>\n",
              "      <td>56.46</td>\n",
              "    </tr>\n",
              "    <tr>\n",
              "      <th>2016-11-21 22:24:02</th>\n",
              "      <td>56.42</td>\n",
              "    </tr>\n",
              "    <tr>\n",
              "      <th>2016-11-21 22:27:02</th>\n",
              "      <td>56.46</td>\n",
              "    </tr>\n",
              "  </tbody>\n",
              "</table>\n",
              "<p>655 rows × 1 columns</p>\n",
              "</div>"
            ],
            "text/plain": [
              "                     humidity\n",
              "ts                           \n",
              "2016-11-21 00:47:03     72.09\n",
              "2016-11-21 00:48:03     70.95\n",
              "2016-11-21 00:49:03     69.12\n",
              "2016-11-21 00:50:03     68.83\n",
              "2016-11-21 00:51:03     68.60\n",
              "...                       ...\n",
              "2016-11-21 22:19:02     56.42\n",
              "2016-11-21 22:20:02     56.35\n",
              "2016-11-21 22:22:02     56.46\n",
              "2016-11-21 22:24:02     56.42\n",
              "2016-11-21 22:27:02     56.46\n",
              "\n",
              "[655 rows x 1 columns]"
            ]
          },
          "metadata": {
            "tags": []
          },
          "execution_count": 250
        }
      ]
    },
    {
      "cell_type": "code",
      "metadata": {
        "colab": {
          "base_uri": "https://localhost:8080/",
          "height": 1000
        },
        "id": "R7Q7Nlma_6pr",
        "outputId": "5b479655-df0c-4794-d970-069f2c92115e"
      },
      "source": [
        "# We get our test dataset\n",
        "test = humidity_day_df.iloc[test_ind:]\n",
        "test"
      ],
      "execution_count": 252,
      "outputs": [
        {
          "output_type": "execute_result",
          "data": {
            "text/html": [
              "<div>\n",
              "<style scoped>\n",
              "    .dataframe tbody tr th:only-of-type {\n",
              "        vertical-align: middle;\n",
              "    }\n",
              "\n",
              "    .dataframe tbody tr th {\n",
              "        vertical-align: top;\n",
              "    }\n",
              "\n",
              "    .dataframe thead th {\n",
              "        text-align: right;\n",
              "    }\n",
              "</style>\n",
              "<table border=\"1\" class=\"dataframe\">\n",
              "  <thead>\n",
              "    <tr style=\"text-align: right;\">\n",
              "      <th></th>\n",
              "      <th>humidity</th>\n",
              "    </tr>\n",
              "    <tr>\n",
              "      <th>ts</th>\n",
              "      <th></th>\n",
              "    </tr>\n",
              "  </thead>\n",
              "  <tbody>\n",
              "    <tr>\n",
              "      <th>2016-11-21 22:28:02</th>\n",
              "      <td>56.46</td>\n",
              "    </tr>\n",
              "    <tr>\n",
              "      <th>2016-11-21 22:29:02</th>\n",
              "      <td>56.46</td>\n",
              "    </tr>\n",
              "    <tr>\n",
              "      <th>2016-11-21 22:30:02</th>\n",
              "      <td>56.42</td>\n",
              "    </tr>\n",
              "    <tr>\n",
              "      <th>2016-11-21 22:32:02</th>\n",
              "      <td>56.49</td>\n",
              "    </tr>\n",
              "    <tr>\n",
              "      <th>2016-11-21 22:33:02</th>\n",
              "      <td>56.55</td>\n",
              "    </tr>\n",
              "    <tr>\n",
              "      <th>2016-11-21 22:41:02</th>\n",
              "      <td>56.49</td>\n",
              "    </tr>\n",
              "    <tr>\n",
              "      <th>2016-11-21 22:42:02</th>\n",
              "      <td>56.49</td>\n",
              "    </tr>\n",
              "    <tr>\n",
              "      <th>2016-11-21 22:44:02</th>\n",
              "      <td>56.46</td>\n",
              "    </tr>\n",
              "    <tr>\n",
              "      <th>2016-11-21 22:45:02</th>\n",
              "      <td>56.46</td>\n",
              "    </tr>\n",
              "    <tr>\n",
              "      <th>2016-11-21 22:47:02</th>\n",
              "      <td>56.46</td>\n",
              "    </tr>\n",
              "    <tr>\n",
              "      <th>2016-11-21 22:48:02</th>\n",
              "      <td>56.33</td>\n",
              "    </tr>\n",
              "    <tr>\n",
              "      <th>2016-11-21 22:53:03</th>\n",
              "      <td>56.26</td>\n",
              "    </tr>\n",
              "    <tr>\n",
              "      <th>2016-11-21 22:58:02</th>\n",
              "      <td>56.26</td>\n",
              "    </tr>\n",
              "    <tr>\n",
              "      <th>2016-11-21 22:59:02</th>\n",
              "      <td>56.32</td>\n",
              "    </tr>\n",
              "    <tr>\n",
              "      <th>2016-11-21 23:00:02</th>\n",
              "      <td>56.33</td>\n",
              "    </tr>\n",
              "    <tr>\n",
              "      <th>2016-11-21 23:01:02</th>\n",
              "      <td>56.26</td>\n",
              "    </tr>\n",
              "    <tr>\n",
              "      <th>2016-11-21 23:02:02</th>\n",
              "      <td>56.13</td>\n",
              "    </tr>\n",
              "    <tr>\n",
              "      <th>2016-11-21 23:03:02</th>\n",
              "      <td>56.13</td>\n",
              "    </tr>\n",
              "    <tr>\n",
              "      <th>2016-11-21 23:05:02</th>\n",
              "      <td>56.20</td>\n",
              "    </tr>\n",
              "    <tr>\n",
              "      <th>2016-11-21 23:07:02</th>\n",
              "      <td>56.29</td>\n",
              "    </tr>\n",
              "    <tr>\n",
              "      <th>2016-11-21 23:09:02</th>\n",
              "      <td>56.29</td>\n",
              "    </tr>\n",
              "    <tr>\n",
              "      <th>2016-11-21 23:11:02</th>\n",
              "      <td>56.23</td>\n",
              "    </tr>\n",
              "    <tr>\n",
              "      <th>2016-11-21 23:14:02</th>\n",
              "      <td>56.29</td>\n",
              "    </tr>\n",
              "    <tr>\n",
              "      <th>2016-11-21 23:18:02</th>\n",
              "      <td>56.36</td>\n",
              "    </tr>\n",
              "    <tr>\n",
              "      <th>2016-11-21 23:19:02</th>\n",
              "      <td>56.39</td>\n",
              "    </tr>\n",
              "    <tr>\n",
              "      <th>2016-11-21 23:20:02</th>\n",
              "      <td>56.36</td>\n",
              "    </tr>\n",
              "    <tr>\n",
              "      <th>2016-11-21 23:21:02</th>\n",
              "      <td>56.26</td>\n",
              "    </tr>\n",
              "    <tr>\n",
              "      <th>2016-11-21 23:22:02</th>\n",
              "      <td>56.20</td>\n",
              "    </tr>\n",
              "    <tr>\n",
              "      <th>2016-11-21 23:25:02</th>\n",
              "      <td>56.26</td>\n",
              "    </tr>\n",
              "    <tr>\n",
              "      <th>2016-11-21 23:26:02</th>\n",
              "      <td>56.26</td>\n",
              "    </tr>\n",
              "    <tr>\n",
              "      <th>2016-11-21 23:27:02</th>\n",
              "      <td>56.29</td>\n",
              "    </tr>\n",
              "    <tr>\n",
              "      <th>2016-11-21 23:28:02</th>\n",
              "      <td>56.26</td>\n",
              "    </tr>\n",
              "    <tr>\n",
              "      <th>2016-11-21 23:29:02</th>\n",
              "      <td>56.23</td>\n",
              "    </tr>\n",
              "    <tr>\n",
              "      <th>2016-11-21 23:32:02</th>\n",
              "      <td>56.17</td>\n",
              "    </tr>\n",
              "    <tr>\n",
              "      <th>2016-11-21 23:33:02</th>\n",
              "      <td>56.06</td>\n",
              "    </tr>\n",
              "    <tr>\n",
              "      <th>2016-11-21 23:34:02</th>\n",
              "      <td>56.13</td>\n",
              "    </tr>\n",
              "    <tr>\n",
              "      <th>2016-11-21 23:36:02</th>\n",
              "      <td>56.17</td>\n",
              "    </tr>\n",
              "    <tr>\n",
              "      <th>2016-11-21 23:37:02</th>\n",
              "      <td>56.10</td>\n",
              "    </tr>\n",
              "    <tr>\n",
              "      <th>2016-11-21 23:38:02</th>\n",
              "      <td>56.06</td>\n",
              "    </tr>\n",
              "    <tr>\n",
              "      <th>2016-11-21 23:40:02</th>\n",
              "      <td>56.10</td>\n",
              "    </tr>\n",
              "    <tr>\n",
              "      <th>2016-11-21 23:42:02</th>\n",
              "      <td>56.10</td>\n",
              "    </tr>\n",
              "    <tr>\n",
              "      <th>2016-11-21 23:46:02</th>\n",
              "      <td>55.76</td>\n",
              "    </tr>\n",
              "    <tr>\n",
              "      <th>2016-11-21 23:48:02</th>\n",
              "      <td>55.90</td>\n",
              "    </tr>\n",
              "    <tr>\n",
              "      <th>2016-11-21 23:52:02</th>\n",
              "      <td>55.69</td>\n",
              "    </tr>\n",
              "    <tr>\n",
              "      <th>2016-11-21 23:53:02</th>\n",
              "      <td>55.63</td>\n",
              "    </tr>\n",
              "  </tbody>\n",
              "</table>\n",
              "</div>"
            ],
            "text/plain": [
              "                     humidity\n",
              "ts                           \n",
              "2016-11-21 22:28:02     56.46\n",
              "2016-11-21 22:29:02     56.46\n",
              "2016-11-21 22:30:02     56.42\n",
              "2016-11-21 22:32:02     56.49\n",
              "2016-11-21 22:33:02     56.55\n",
              "2016-11-21 22:41:02     56.49\n",
              "2016-11-21 22:42:02     56.49\n",
              "2016-11-21 22:44:02     56.46\n",
              "2016-11-21 22:45:02     56.46\n",
              "2016-11-21 22:47:02     56.46\n",
              "2016-11-21 22:48:02     56.33\n",
              "2016-11-21 22:53:03     56.26\n",
              "2016-11-21 22:58:02     56.26\n",
              "2016-11-21 22:59:02     56.32\n",
              "2016-11-21 23:00:02     56.33\n",
              "2016-11-21 23:01:02     56.26\n",
              "2016-11-21 23:02:02     56.13\n",
              "2016-11-21 23:03:02     56.13\n",
              "2016-11-21 23:05:02     56.20\n",
              "2016-11-21 23:07:02     56.29\n",
              "2016-11-21 23:09:02     56.29\n",
              "2016-11-21 23:11:02     56.23\n",
              "2016-11-21 23:14:02     56.29\n",
              "2016-11-21 23:18:02     56.36\n",
              "2016-11-21 23:19:02     56.39\n",
              "2016-11-21 23:20:02     56.36\n",
              "2016-11-21 23:21:02     56.26\n",
              "2016-11-21 23:22:02     56.20\n",
              "2016-11-21 23:25:02     56.26\n",
              "2016-11-21 23:26:02     56.26\n",
              "2016-11-21 23:27:02     56.29\n",
              "2016-11-21 23:28:02     56.26\n",
              "2016-11-21 23:29:02     56.23\n",
              "2016-11-21 23:32:02     56.17\n",
              "2016-11-21 23:33:02     56.06\n",
              "2016-11-21 23:34:02     56.13\n",
              "2016-11-21 23:36:02     56.17\n",
              "2016-11-21 23:37:02     56.10\n",
              "2016-11-21 23:38:02     56.06\n",
              "2016-11-21 23:40:02     56.10\n",
              "2016-11-21 23:42:02     56.10\n",
              "2016-11-21 23:46:02     55.76\n",
              "2016-11-21 23:48:02     55.90\n",
              "2016-11-21 23:52:02     55.69\n",
              "2016-11-21 23:53:02     55.63"
            ]
          },
          "metadata": {
            "tags": []
          },
          "execution_count": 252
        }
      ]
    },
    {
      "cell_type": "markdown",
      "metadata": {
        "id": "u4jBbv-3ATxt"
      },
      "source": [
        "\n",
        "# Preprocessing Data \n",
        "\n",
        "Now we get our training and test dataset we can preprocess our data. "
      ]
    },
    {
      "cell_type": "markdown",
      "metadata": {
        "id": "gXiUd_IyAk03"
      },
      "source": [
        "## Data normalization\n",
        "\n",
        "Many machine learning algorithms perform better when numerical input variables are scaled to a standard range."
      ]
    },
    {
      "cell_type": "code",
      "metadata": {
        "id": "NExZIFBtATcE"
      },
      "source": [
        "from sklearn.preprocessing import MinMaxScaler"
      ],
      "execution_count": 215,
      "outputs": []
    },
    {
      "cell_type": "code",
      "metadata": {
        "id": "FeYYic9kDCH8"
      },
      "source": [
        "# We create an instance of MinMaxScaler\n",
        "scaler = MinMaxScaler()"
      ],
      "execution_count": 253,
      "outputs": []
    },
    {
      "cell_type": "code",
      "metadata": {
        "colab": {
          "base_uri": "https://localhost:8080/"
        },
        "id": "Z4S38_75DOMf",
        "outputId": "26729672-6119-48c2-d3a0-db726250a02b"
      },
      "source": [
        "scaler.fit(train)"
      ],
      "execution_count": 254,
      "outputs": [
        {
          "output_type": "execute_result",
          "data": {
            "text/plain": [
              "MinMaxScaler(copy=True, feature_range=(0, 1))"
            ]
          },
          "metadata": {
            "tags": []
          },
          "execution_count": 254
        }
      ]
    },
    {
      "cell_type": "code",
      "metadata": {
        "colab": {
          "base_uri": "https://localhost:8080/"
        },
        "id": "4pZVU5_eFmfQ",
        "outputId": "6c8e3f8c-2fc6-4e78-e2a4-970370672c83"
      },
      "source": [
        "scaled_train = scaler.transform(train)\n",
        "len(scaled_train)"
      ],
      "execution_count": 255,
      "outputs": [
        {
          "output_type": "execute_result",
          "data": {
            "text/plain": [
              "655"
            ]
          },
          "metadata": {
            "tags": []
          },
          "execution_count": 255
        }
      ]
    },
    {
      "cell_type": "code",
      "metadata": {
        "colab": {
          "base_uri": "https://localhost:8080/"
        },
        "id": "rcJLfQXKFrhJ",
        "outputId": "93513462-1798-470f-d1cb-b2e9b1279685"
      },
      "source": [
        "scaled_test = scaler.transform(test)\n",
        "len(scaled_test)"
      ],
      "execution_count": 256,
      "outputs": [
        {
          "output_type": "execute_result",
          "data": {
            "text/plain": [
              "45"
            ]
          },
          "metadata": {
            "tags": []
          },
          "execution_count": 256
        }
      ]
    },
    {
      "cell_type": "markdown",
      "metadata": {
        "id": "pfKxSAKYGSSN"
      },
      "source": [
        "## Time series generator\n",
        "\n",
        "Here, our goal is to produce some batch for training and validation phase."
      ]
    },
    {
      "cell_type": "code",
      "metadata": {
        "id": "esJPI-hDGqKO"
      },
      "source": [
        "from tensorflow.keras.preprocessing.sequence import TimeseriesGenerator"
      ],
      "execution_count": 222,
      "outputs": []
    },
    {
      "cell_type": "code",
      "metadata": {
        "colab": {
          "base_uri": "https://localhost:8080/"
        },
        "id": "2Ti3oq_5fxFl",
        "outputId": "fa4a223b-a520-4f90-e009-5c9f0713422b"
      },
      "source": [
        "len(test)"
      ],
      "execution_count": 257,
      "outputs": [
        {
          "output_type": "execute_result",
          "data": {
            "text/plain": [
              "45"
            ]
          },
          "metadata": {
            "tags": []
          },
          "execution_count": 257
        }
      ]
    },
    {
      "cell_type": "code",
      "metadata": {
        "id": "TFU0vRiLgtID"
      },
      "source": [
        "# batch length need to be smaller than test dataset size, so we can use 700 (almost 1 day)\n",
        "length = 30\n",
        "# one batch at the time\n",
        "batch_size = 1"
      ],
      "execution_count": 259,
      "outputs": []
    },
    {
      "cell_type": "code",
      "metadata": {
        "id": "sbvPUUP6GU6u"
      },
      "source": [
        "generator = TimeseriesGenerator(scaled_train, scaled_train, length=length, batch_size=batch_size)"
      ],
      "execution_count": 260,
      "outputs": []
    },
    {
      "cell_type": "code",
      "metadata": {
        "colab": {
          "base_uri": "https://localhost:8080/"
        },
        "id": "o1kLDznWHj81",
        "outputId": "fcd9ff3f-c8c5-43e7-ca89-63933fcb7364"
      },
      "source": [
        "# Our dataset of training contains 121589 point of data\n",
        "len(scaled_train)"
      ],
      "execution_count": 261,
      "outputs": [
        {
          "output_type": "execute_result",
          "data": {
            "text/plain": [
              "655"
            ]
          },
          "metadata": {
            "tags": []
          },
          "execution_count": 261
        }
      ]
    },
    {
      "cell_type": "code",
      "metadata": {
        "colab": {
          "base_uri": "https://localhost:8080/"
        },
        "id": "oTklHq6xHx4h",
        "outputId": "cc48d87c-d894-479a-d5c2-a57ee24aebf7"
      },
      "source": [
        "len(generator)"
      ],
      "execution_count": 262,
      "outputs": [
        {
          "output_type": "execute_result",
          "data": {
            "text/plain": [
              "625"
            ]
          },
          "metadata": {
            "tags": []
          },
          "execution_count": 262
        }
      ]
    },
    {
      "cell_type": "code",
      "metadata": {
        "id": "TRqcsICFICX3"
      },
      "source": [
        "# Our first batch\n",
        "X, y = generator[0]"
      ],
      "execution_count": 263,
      "outputs": []
    },
    {
      "cell_type": "code",
      "metadata": {
        "colab": {
          "base_uri": "https://localhost:8080/"
        },
        "id": "2Xqac4irIFAI",
        "outputId": "0f9e5c81-2297-4aa8-cfcc-3827f4085f68"
      },
      "source": [
        "# If we had this sequence of data, ...\n",
        "x"
      ],
      "execution_count": 271,
      "outputs": [
        {
          "output_type": "execute_result",
          "data": {
            "text/plain": [
              "array([[[0.        , 1.        ],\n",
              "        [0.        , 0.97725459],\n",
              "        [0.        , 0.94074222],\n",
              "        [0.        , 0.93495611],\n",
              "        [0.        , 0.93036712],\n",
              "        [0.        , 0.92458101],\n",
              "        [0.        , 0.92059058],\n",
              "        [0.        , 0.91420591],\n",
              "        [0.        , 0.91021548],\n",
              "        [0.        , 0.90442937],\n",
              "        [0.        , 0.89804469],\n",
              "        [0.        , 0.89106145],\n",
              "        [0.        , 0.88387869],\n",
              "        [0.        , 0.87689545],\n",
              "        [0.        , 0.87110934],\n",
              "        [0.        , 0.86592179],\n",
              "        [0.        , 0.85953711],\n",
              "        [0.        , 0.85594573],\n",
              "        [0.        , 0.84896249],\n",
              "        [0.        , 0.84477255],\n",
              "        [0.        , 0.839585  ],\n",
              "        [0.        , 0.83539505],\n",
              "        [0.        , 0.83080607],\n",
              "        [0.        , 0.82681564],\n",
              "        [0.        , 0.82142857]]])"
            ]
          },
          "metadata": {
            "tags": []
          },
          "execution_count": 271
        }
      ]
    },
    {
      "cell_type": "code",
      "metadata": {
        "colab": {
          "base_uri": "https://localhost:8080/"
        },
        "id": "5LWekOC0ILOS",
        "outputId": "9386ba23-de1f-4724-cc60-507ededfbd88"
      },
      "source": [
        "# Then, we can predit that the next one is this value\n",
        "y"
      ],
      "execution_count": 270,
      "outputs": [
        {
          "output_type": "execute_result",
          "data": {
            "text/plain": [
              "array([[0.3653603]])"
            ]
          },
          "metadata": {
            "tags": []
          },
          "execution_count": 270
        }
      ]
    },
    {
      "cell_type": "code",
      "metadata": {
        "id": "WtxtXxJEiBwC"
      },
      "source": [
        "from tensorflow.keras.models import Sequential\n",
        "from tensorflow.keras.layers import Dense, LSTM"
      ],
      "execution_count": 266,
      "outputs": []
    },
    {
      "cell_type": "code",
      "metadata": {
        "id": "MdXBtDCqiHoY"
      },
      "source": [
        "# We use only one feature (humidity)\n",
        "n_features = 1"
      ],
      "execution_count": 267,
      "outputs": []
    },
    {
      "cell_type": "code",
      "metadata": {
        "id": "69TNZR4SiOgd"
      },
      "source": [
        "# We define the model\n",
        "model = Sequential()\n",
        "model.add(LSTM(100, activation='relu', input_shape=(length, n_features)))\n",
        "model.add(Dense(1))\n",
        "model.compile(optimizer='adam', loss='mse')"
      ],
      "execution_count": 268,
      "outputs": []
    },
    {
      "cell_type": "code",
      "metadata": {
        "colab": {
          "base_uri": "https://localhost:8080/"
        },
        "id": "9LcXp5Htimx6",
        "outputId": "90be1c56-47b6-43ee-aaa1-0843b1590a4b"
      },
      "source": [
        "model.summary()"
      ],
      "execution_count": 272,
      "outputs": [
        {
          "output_type": "stream",
          "text": [
            "Model: \"sequential_2\"\n",
            "_________________________________________________________________\n",
            "Layer (type)                 Output Shape              Param #   \n",
            "=================================================================\n",
            "lstm_2 (LSTM)                (None, 100)               40800     \n",
            "_________________________________________________________________\n",
            "dense_2 (Dense)              (None, 1)                 101       \n",
            "=================================================================\n",
            "Total params: 40,901\n",
            "Trainable params: 40,901\n",
            "Non-trainable params: 0\n",
            "_________________________________________________________________\n"
          ],
          "name": "stdout"
        }
      ]
    },
    {
      "cell_type": "code",
      "metadata": {
        "id": "lC7M9Eqbisli"
      },
      "source": [
        "from tensorflow.keras.callbacks import EarlyStopping"
      ],
      "execution_count": 273,
      "outputs": []
    },
    {
      "cell_type": "code",
      "metadata": {
        "id": "v1KFtm3jiu-Y"
      },
      "source": [
        "early_stop = EarlyStopping(monitor='val_loss',patience=2)"
      ],
      "execution_count": 274,
      "outputs": []
    },
    {
      "cell_type": "code",
      "metadata": {
        "id": "mY6DsAQRixTG"
      },
      "source": [
        "validation_generator = TimeseriesGenerator(scaled_test,scaled_test, length=length, batch_size=1)"
      ],
      "execution_count": 275,
      "outputs": []
    },
    {
      "cell_type": "code",
      "metadata": {
        "colab": {
          "base_uri": "https://localhost:8080/"
        },
        "id": "gsFmsacOiz1_",
        "outputId": "e6b2b02f-6547-41da-f2c1-436c37f234fb"
      },
      "source": [
        "model.fit(generator,epochs=20,\n",
        "                    validation_data=validation_generator,\n",
        "                   callbacks=[early_stop])"
      ],
      "execution_count": 276,
      "outputs": [
        {
          "output_type": "stream",
          "text": [
            "Epoch 1/20\n",
            "625/625 [==============================] - 8s 12ms/step - loss: 0.0012 - val_loss: 5.1831e-04\n",
            "Epoch 2/20\n",
            "625/625 [==============================] - 7s 11ms/step - loss: 7.4458e-04 - val_loss: 7.2410e-04\n",
            "Epoch 3/20\n",
            "625/625 [==============================] - 7s 11ms/step - loss: 7.6490e-04 - val_loss: 8.5899e-04\n"
          ],
          "name": "stdout"
        },
        {
          "output_type": "execute_result",
          "data": {
            "text/plain": [
              "<tensorflow.python.keras.callbacks.History at 0x7f8b1ea9ea50>"
            ]
          },
          "metadata": {
            "tags": []
          },
          "execution_count": 276
        }
      ]
    },
    {
      "cell_type": "code",
      "metadata": {
        "id": "6udpmf5YphTO"
      },
      "source": [
        "losses = pd.DataFrame(model.history.history)"
      ],
      "execution_count": 277,
      "outputs": []
    },
    {
      "cell_type": "code",
      "metadata": {
        "colab": {
          "base_uri": "https://localhost:8080/",
          "height": 286
        },
        "id": "sJqVnAaKpjNV",
        "outputId": "3ad8543b-1f7a-4290-b27d-fc1f9e069da8"
      },
      "source": [
        "losses.plot()"
      ],
      "execution_count": 278,
      "outputs": [
        {
          "output_type": "execute_result",
          "data": {
            "text/plain": [
              "<matplotlib.axes._subplots.AxesSubplot at 0x7f8b1c713fd0>"
            ]
          },
          "metadata": {
            "tags": []
          },
          "execution_count": 278
        },
        {
          "output_type": "display_data",
          "data": {
            "image/png": "[encoded data removed]",
            "text/plain": [
              "<Figure size 432x288 with 1 Axes>"
            ]
          },
          "metadata": {
            "tags": []
          }
        }
      ]
    },
    {
      "cell_type": "markdown",
      "metadata": {
        "id": "K0tG79csqAz6"
      },
      "source": [
        "# Data evaluation\n",
        "\n",
        "We need to build a new array with predictions for humidity for the next batch (in other words, for the next hour)."
      ]
    },
    {
      "cell_type": "code",
      "metadata": {
        "colab": {
          "base_uri": "https://localhost:8080/"
        },
        "id": "w7tHEibvrxRJ",
        "outputId": "fa8e3012-99bd-4852-de5c-e0e51ced1141"
      },
      "source": [
        "len(test)"
      ],
      "execution_count": 288,
      "outputs": [
        {
          "output_type": "execute_result",
          "data": {
            "text/plain": [
              "45"
            ]
          },
          "metadata": {
            "tags": []
          },
          "execution_count": 288
        }
      ]
    },
    {
      "cell_type": "code",
      "metadata": {
        "id": "Ce8qwpldqsSc"
      },
      "source": [
        "test_predictions = []\n",
        "\n",
        "first_eval_batch = scaled_train[-length:]\n",
        "current_batch = first_eval_batch.reshape((1, length, n_features))\n",
        "\n",
        "for i in range(len(test)):\n",
        "    # we get the prediction for th next timestamp \n",
        "    current_pred = model.predict(current_batch)[0]\n",
        "    # we store the prediction\n",
        "    test_predictions.append(current_pred) \n",
        "    # we update the batch to include the prediction (t+1) to predict at the iteration the next value (t+2)\n",
        "    current_batch = np.append(current_batch[:,1:,:],[[current_pred]],axis=1)"
      ],
      "execution_count": 283,
      "outputs": []
    },
    {
      "cell_type": "markdown",
      "metadata": {
        "id": "cru4K78qq--d"
      },
      "source": [
        "# Reverse transformation\n",
        "\n",
        "Now we need to reverse the normalization process to get our values. "
      ]
    },
    {
      "cell_type": "code",
      "metadata": {
        "id": "WYRgNnvErCZm"
      },
      "source": [
        "true_predictions = scaler.inverse_transform(test_predictions)"
      ],
      "execution_count": 284,
      "outputs": []
    },
    {
      "cell_type": "code",
      "metadata": {
        "colab": {
          "base_uri": "https://localhost:8080/"
        },
        "id": "97UUrjujrICn",
        "outputId": "eeaf9b3b-343c-4ba1-cd4f-b7edd4b1d2d1"
      },
      "source": [
        "test['Predictions'] = true_predictions"
      ],
      "execution_count": 286,
      "outputs": [
        {
          "output_type": "stream",
          "text": [
            "/usr/local/lib/python3.7/dist-packages/ipykernel_launcher.py:1: SettingWithCopyWarning: \n",
            "A value is trying to be set on a copy of a slice from a DataFrame.\n",
            "Try using .loc[row_indexer,col_indexer] = value instead\n",
            "\n",
            "See the caveats in the documentation: https://pandas.pydata.org/pandas-docs/stable/user_guide/indexing.html#returning-a-view-versus-a-copy\n",
            "  \"\"\"Entry point for launching an IPython kernel.\n"
          ],
          "name": "stderr"
        }
      ]
    },
    {
      "cell_type": "code",
      "metadata": {
        "colab": {
          "base_uri": "https://localhost:8080/",
          "height": 1000
        },
        "id": "xvwH7l2TrMkd",
        "outputId": "220c0f36-22ac-415e-8146-96348118af7e"
      },
      "source": [
        "# we get our table with predictions for the next hour \n",
        "test"
      ],
      "execution_count": 289,
      "outputs": [
        {
          "output_type": "execute_result",
          "data": {
            "text/html": [
              "<div>\n",
              "<style scoped>\n",
              "    .dataframe tbody tr th:only-of-type {\n",
              "        vertical-align: middle;\n",
              "    }\n",
              "\n",
              "    .dataframe tbody tr th {\n",
              "        vertical-align: top;\n",
              "    }\n",
              "\n",
              "    .dataframe thead th {\n",
              "        text-align: right;\n",
              "    }\n",
              "</style>\n",
              "<table border=\"1\" class=\"dataframe\">\n",
              "  <thead>\n",
              "    <tr style=\"text-align: right;\">\n",
              "      <th></th>\n",
              "      <th>humidity</th>\n",
              "      <th>Predictions</th>\n",
              "    </tr>\n",
              "    <tr>\n",
              "      <th>ts</th>\n",
              "      <th></th>\n",
              "      <th></th>\n",
              "    </tr>\n",
              "  </thead>\n",
              "  <tbody>\n",
              "    <tr>\n",
              "      <th>2016-11-21 22:28:02</th>\n",
              "      <td>56.46</td>\n",
              "      <td>56.634910</td>\n",
              "    </tr>\n",
              "    <tr>\n",
              "      <th>2016-11-21 22:29:02</th>\n",
              "      <td>56.46</td>\n",
              "      <td>56.671175</td>\n",
              "    </tr>\n",
              "    <tr>\n",
              "      <th>2016-11-21 22:30:02</th>\n",
              "      <td>56.42</td>\n",
              "      <td>56.705638</td>\n",
              "    </tr>\n",
              "    <tr>\n",
              "      <th>2016-11-21 22:32:02</th>\n",
              "      <td>56.49</td>\n",
              "      <td>56.738504</td>\n",
              "    </tr>\n",
              "    <tr>\n",
              "      <th>2016-11-21 22:33:02</th>\n",
              "      <td>56.55</td>\n",
              "      <td>56.769748</td>\n",
              "    </tr>\n",
              "    <tr>\n",
              "      <th>2016-11-21 22:41:02</th>\n",
              "      <td>56.49</td>\n",
              "      <td>56.799376</td>\n",
              "    </tr>\n",
              "    <tr>\n",
              "      <th>2016-11-21 22:42:02</th>\n",
              "      <td>56.49</td>\n",
              "      <td>56.827534</td>\n",
              "    </tr>\n",
              "    <tr>\n",
              "      <th>2016-11-21 22:44:02</th>\n",
              "      <td>56.46</td>\n",
              "      <td>56.854697</td>\n",
              "    </tr>\n",
              "    <tr>\n",
              "      <th>2016-11-21 22:45:02</th>\n",
              "      <td>56.46</td>\n",
              "      <td>56.881978</td>\n",
              "    </tr>\n",
              "    <tr>\n",
              "      <th>2016-11-21 22:47:02</th>\n",
              "      <td>56.46</td>\n",
              "      <td>56.909460</td>\n",
              "    </tr>\n",
              "    <tr>\n",
              "      <th>2016-11-21 22:48:02</th>\n",
              "      <td>56.33</td>\n",
              "      <td>56.937301</td>\n",
              "    </tr>\n",
              "    <tr>\n",
              "      <th>2016-11-21 22:53:03</th>\n",
              "      <td>56.26</td>\n",
              "      <td>56.965576</td>\n",
              "    </tr>\n",
              "    <tr>\n",
              "      <th>2016-11-21 22:58:02</th>\n",
              "      <td>56.26</td>\n",
              "      <td>56.994340</td>\n",
              "    </tr>\n",
              "    <tr>\n",
              "      <th>2016-11-21 22:59:02</th>\n",
              "      <td>56.32</td>\n",
              "      <td>57.023594</td>\n",
              "    </tr>\n",
              "    <tr>\n",
              "      <th>2016-11-21 23:00:02</th>\n",
              "      <td>56.33</td>\n",
              "      <td>57.053348</td>\n",
              "    </tr>\n",
              "    <tr>\n",
              "      <th>2016-11-21 23:01:02</th>\n",
              "      <td>56.26</td>\n",
              "      <td>57.083598</td>\n",
              "    </tr>\n",
              "    <tr>\n",
              "      <th>2016-11-21 23:02:02</th>\n",
              "      <td>56.13</td>\n",
              "      <td>57.114355</td>\n",
              "    </tr>\n",
              "    <tr>\n",
              "      <th>2016-11-21 23:03:02</th>\n",
              "      <td>56.13</td>\n",
              "      <td>57.145651</td>\n",
              "    </tr>\n",
              "    <tr>\n",
              "      <th>2016-11-21 23:05:02</th>\n",
              "      <td>56.20</td>\n",
              "      <td>57.177700</td>\n",
              "    </tr>\n",
              "    <tr>\n",
              "      <th>2016-11-21 23:07:02</th>\n",
              "      <td>56.29</td>\n",
              "      <td>57.210594</td>\n",
              "    </tr>\n",
              "    <tr>\n",
              "      <th>2016-11-21 23:09:02</th>\n",
              "      <td>56.29</td>\n",
              "      <td>57.244364</td>\n",
              "    </tr>\n",
              "    <tr>\n",
              "      <th>2016-11-21 23:11:02</th>\n",
              "      <td>56.23</td>\n",
              "      <td>57.279036</td>\n",
              "    </tr>\n",
              "    <tr>\n",
              "      <th>2016-11-21 23:14:02</th>\n",
              "      <td>56.29</td>\n",
              "      <td>57.314691</td>\n",
              "    </tr>\n",
              "    <tr>\n",
              "      <th>2016-11-21 23:18:02</th>\n",
              "      <td>56.36</td>\n",
              "      <td>57.351397</td>\n",
              "    </tr>\n",
              "    <tr>\n",
              "      <th>2016-11-21 23:19:02</th>\n",
              "      <td>56.39</td>\n",
              "      <td>57.389246</td>\n",
              "    </tr>\n",
              "    <tr>\n",
              "      <th>2016-11-21 23:20:02</th>\n",
              "      <td>56.36</td>\n",
              "      <td>57.428271</td>\n",
              "    </tr>\n",
              "    <tr>\n",
              "      <th>2016-11-21 23:21:02</th>\n",
              "      <td>56.26</td>\n",
              "      <td>57.468511</td>\n",
              "    </tr>\n",
              "    <tr>\n",
              "      <th>2016-11-21 23:22:02</th>\n",
              "      <td>56.20</td>\n",
              "      <td>57.510006</td>\n",
              "    </tr>\n",
              "    <tr>\n",
              "      <th>2016-11-21 23:25:02</th>\n",
              "      <td>56.26</td>\n",
              "      <td>57.552738</td>\n",
              "    </tr>\n",
              "    <tr>\n",
              "      <th>2016-11-21 23:26:02</th>\n",
              "      <td>56.26</td>\n",
              "      <td>57.596799</td>\n",
              "    </tr>\n",
              "    <tr>\n",
              "      <th>2016-11-21 23:27:02</th>\n",
              "      <td>56.29</td>\n",
              "      <td>57.642202</td>\n",
              "    </tr>\n",
              "    <tr>\n",
              "      <th>2016-11-21 23:28:02</th>\n",
              "      <td>56.26</td>\n",
              "      <td>57.688948</td>\n",
              "    </tr>\n",
              "    <tr>\n",
              "      <th>2016-11-21 23:29:02</th>\n",
              "      <td>56.23</td>\n",
              "      <td>57.737114</td>\n",
              "    </tr>\n",
              "    <tr>\n",
              "      <th>2016-11-21 23:32:02</th>\n",
              "      <td>56.17</td>\n",
              "      <td>57.786741</td>\n",
              "    </tr>\n",
              "    <tr>\n",
              "      <th>2016-11-21 23:33:02</th>\n",
              "      <td>56.06</td>\n",
              "      <td>57.837881</td>\n",
              "    </tr>\n",
              "    <tr>\n",
              "      <th>2016-11-21 23:34:02</th>\n",
              "      <td>56.13</td>\n",
              "      <td>57.890569</td>\n",
              "    </tr>\n",
              "    <tr>\n",
              "      <th>2016-11-21 23:36:02</th>\n",
              "      <td>56.17</td>\n",
              "      <td>57.944826</td>\n",
              "    </tr>\n",
              "    <tr>\n",
              "      <th>2016-11-21 23:37:02</th>\n",
              "      <td>56.10</td>\n",
              "      <td>58.000692</td>\n",
              "    </tr>\n",
              "    <tr>\n",
              "      <th>2016-11-21 23:38:02</th>\n",
              "      <td>56.06</td>\n",
              "      <td>58.058217</td>\n",
              "    </tr>\n",
              "    <tr>\n",
              "      <th>2016-11-21 23:40:02</th>\n",
              "      <td>56.10</td>\n",
              "      <td>58.117356</td>\n",
              "    </tr>\n",
              "    <tr>\n",
              "      <th>2016-11-21 23:42:02</th>\n",
              "      <td>56.10</td>\n",
              "      <td>58.178130</td>\n",
              "    </tr>\n",
              "    <tr>\n",
              "      <th>2016-11-21 23:46:02</th>\n",
              "      <td>55.76</td>\n",
              "      <td>58.240600</td>\n",
              "    </tr>\n",
              "    <tr>\n",
              "      <th>2016-11-21 23:48:02</th>\n",
              "      <td>55.90</td>\n",
              "      <td>58.304829</td>\n",
              "    </tr>\n",
              "    <tr>\n",
              "      <th>2016-11-21 23:52:02</th>\n",
              "      <td>55.69</td>\n",
              "      <td>58.370876</td>\n",
              "    </tr>\n",
              "    <tr>\n",
              "      <th>2016-11-21 23:53:02</th>\n",
              "      <td>55.63</td>\n",
              "      <td>58.438796</td>\n",
              "    </tr>\n",
              "  </tbody>\n",
              "</table>\n",
              "</div>"
            ],
            "text/plain": [
              "                     humidity  Predictions\n",
              "ts                                        \n",
              "2016-11-21 22:28:02     56.46    56.634910\n",
              "2016-11-21 22:29:02     56.46    56.671175\n",
              "2016-11-21 22:30:02     56.42    56.705638\n",
              "2016-11-21 22:32:02     56.49    56.738504\n",
              "2016-11-21 22:33:02     56.55    56.769748\n",
              "2016-11-21 22:41:02     56.49    56.799376\n",
              "2016-11-21 22:42:02     56.49    56.827534\n",
              "2016-11-21 22:44:02     56.46    56.854697\n",
              "2016-11-21 22:45:02     56.46    56.881978\n",
              "2016-11-21 22:47:02     56.46    56.909460\n",
              "2016-11-21 22:48:02     56.33    56.937301\n",
              "2016-11-21 22:53:03     56.26    56.965576\n",
              "2016-11-21 22:58:02     56.26    56.994340\n",
              "2016-11-21 22:59:02     56.32    57.023594\n",
              "2016-11-21 23:00:02     56.33    57.053348\n",
              "2016-11-21 23:01:02     56.26    57.083598\n",
              "2016-11-21 23:02:02     56.13    57.114355\n",
              "2016-11-21 23:03:02     56.13    57.145651\n",
              "2016-11-21 23:05:02     56.20    57.177700\n",
              "2016-11-21 23:07:02     56.29    57.210594\n",
              "2016-11-21 23:09:02     56.29    57.244364\n",
              "2016-11-21 23:11:02     56.23    57.279036\n",
              "2016-11-21 23:14:02     56.29    57.314691\n",
              "2016-11-21 23:18:02     56.36    57.351397\n",
              "2016-11-21 23:19:02     56.39    57.389246\n",
              "2016-11-21 23:20:02     56.36    57.428271\n",
              "2016-11-21 23:21:02     56.26    57.468511\n",
              "2016-11-21 23:22:02     56.20    57.510006\n",
              "2016-11-21 23:25:02     56.26    57.552738\n",
              "2016-11-21 23:26:02     56.26    57.596799\n",
              "2016-11-21 23:27:02     56.29    57.642202\n",
              "2016-11-21 23:28:02     56.26    57.688948\n",
              "2016-11-21 23:29:02     56.23    57.737114\n",
              "2016-11-21 23:32:02     56.17    57.786741\n",
              "2016-11-21 23:33:02     56.06    57.837881\n",
              "2016-11-21 23:34:02     56.13    57.890569\n",
              "2016-11-21 23:36:02     56.17    57.944826\n",
              "2016-11-21 23:37:02     56.10    58.000692\n",
              "2016-11-21 23:38:02     56.06    58.058217\n",
              "2016-11-21 23:40:02     56.10    58.117356\n",
              "2016-11-21 23:42:02     56.10    58.178130\n",
              "2016-11-21 23:46:02     55.76    58.240600\n",
              "2016-11-21 23:48:02     55.90    58.304829\n",
              "2016-11-21 23:52:02     55.69    58.370876\n",
              "2016-11-21 23:53:02     55.63    58.438796"
            ]
          },
          "metadata": {
            "tags": []
          },
          "execution_count": 289
        }
      ]
    },
    {
      "cell_type": "code",
      "metadata": {
        "colab": {
          "base_uri": "https://localhost:8080/",
          "height": 500
        },
        "id": "4YL_eBl6srhB",
        "outputId": "0b0de04f-dae8-46d0-f84c-a2c862814d91"
      },
      "source": [
        "test.plot(figsize=(12,8))"
      ],
      "execution_count": 290,
      "outputs": [
        {
          "output_type": "execute_result",
          "data": {
            "text/plain": [
              "<matplotlib.axes._subplots.AxesSubplot at 0x7f8b1c6b7590>"
            ]
          },
          "metadata": {
            "tags": []
          },
          "execution_count": 290
        },
        {
          "output_type": "display_data",
          "data": {
            "image/png": "[encoded data removed]",
            "text/plain": [
              "<Figure size 864x576 with 1 Axes>"
            ]
          },
          "metadata": {
            "tags": []
          }
        }
      ]
    }
  ]
}