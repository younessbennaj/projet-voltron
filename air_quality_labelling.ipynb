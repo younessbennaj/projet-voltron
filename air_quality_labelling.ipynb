{
  "nbformat": 4,
  "nbformat_minor": 0,
  "metadata": {
    "colab": {
      "name": "air-quality-labelling.ipynb",
      "provenance": []
    },
    "kernelspec": {
      "name": "python3",
      "display_name": "Python 3"
    },
    "language_info": {
      "name": "python"
    }
  },
  "cells": [
    {
      "cell_type": "code",
      "metadata": {
        "id": "C38CiaHuUl6T"
      },
      "source": [
        "import pandas as pd\n",
        "import numpy as np"
      ],
      "execution_count": 1,
      "outputs": []
    },
    {
      "cell_type": "code",
      "metadata": {
        "colab": {
          "base_uri": "https://localhost:8080/",
          "height": 204
        },
        "id": "j9UAqS1sVYFo",
        "outputId": "7a9b027c-7cc3-40ba-a371-0e4df2f426e3"
      },
      "source": [
        "csv_path = '/content/gams_indoor.csv'\n",
        "df = pd.read_csv(csv_path)\n",
        "df.head()"
      ],
      "execution_count": 3,
      "outputs": [
        {
          "output_type": "execute_result",
          "data": {
            "text/html": [
              "<div>\n",
              "<style scoped>\n",
              "    .dataframe tbody tr th:only-of-type {\n",
              "        vertical-align: middle;\n",
              "    }\n",
              "\n",
              "    .dataframe tbody tr th {\n",
              "        vertical-align: top;\n",
              "    }\n",
              "\n",
              "    .dataframe thead th {\n",
              "        text-align: right;\n",
              "    }\n",
              "</style>\n",
              "<table border=\"1\" class=\"dataframe\">\n",
              "  <thead>\n",
              "    <tr style=\"text-align: right;\">\n",
              "      <th></th>\n",
              "      <th>ts</th>\n",
              "      <th>co2</th>\n",
              "      <th>humidity</th>\n",
              "      <th>pm10</th>\n",
              "      <th>pm25</th>\n",
              "      <th>temperature</th>\n",
              "      <th>voc</th>\n",
              "    </tr>\n",
              "  </thead>\n",
              "  <tbody>\n",
              "    <tr>\n",
              "      <th>0</th>\n",
              "      <td>2016-11-21 00:47:03</td>\n",
              "      <td>708.0</td>\n",
              "      <td>72.09</td>\n",
              "      <td>10.2</td>\n",
              "      <td>9.0</td>\n",
              "      <td>20.83</td>\n",
              "      <td>0.062</td>\n",
              "    </tr>\n",
              "    <tr>\n",
              "      <th>1</th>\n",
              "      <td>2016-11-21 00:48:03</td>\n",
              "      <td>694.0</td>\n",
              "      <td>70.95</td>\n",
              "      <td>10.9</td>\n",
              "      <td>10.1</td>\n",
              "      <td>21.01</td>\n",
              "      <td>0.062</td>\n",
              "    </tr>\n",
              "    <tr>\n",
              "      <th>2</th>\n",
              "      <td>2016-11-21 00:49:03</td>\n",
              "      <td>693.0</td>\n",
              "      <td>69.12</td>\n",
              "      <td>10.2</td>\n",
              "      <td>9.9</td>\n",
              "      <td>21.20</td>\n",
              "      <td>0.062</td>\n",
              "    </tr>\n",
              "    <tr>\n",
              "      <th>3</th>\n",
              "      <td>2016-11-21 00:50:03</td>\n",
              "      <td>692.0</td>\n",
              "      <td>68.83</td>\n",
              "      <td>9.6</td>\n",
              "      <td>9.6</td>\n",
              "      <td>21.37</td>\n",
              "      <td>0.062</td>\n",
              "    </tr>\n",
              "    <tr>\n",
              "      <th>4</th>\n",
              "      <td>2016-11-21 00:51:03</td>\n",
              "      <td>690.0</td>\n",
              "      <td>68.60</td>\n",
              "      <td>9.4</td>\n",
              "      <td>8.4</td>\n",
              "      <td>21.49</td>\n",
              "      <td>0.062</td>\n",
              "    </tr>\n",
              "  </tbody>\n",
              "</table>\n",
              "</div>"
            ],
            "text/plain": [
              "                    ts    co2  humidity  pm10  pm25  temperature    voc\n",
              "0  2016-11-21 00:47:03  708.0     72.09  10.2   9.0        20.83  0.062\n",
              "1  2016-11-21 00:48:03  694.0     70.95  10.9  10.1        21.01  0.062\n",
              "2  2016-11-21 00:49:03  693.0     69.12  10.2   9.9        21.20  0.062\n",
              "3  2016-11-21 00:50:03  692.0     68.83   9.6   9.6        21.37  0.062\n",
              "4  2016-11-21 00:51:03  690.0     68.60   9.4   8.4        21.49  0.062"
            ]
          },
          "metadata": {
            "tags": []
          },
          "execution_count": 3
        }
      ]
    },
    {
      "cell_type": "code",
      "metadata": {
        "colab": {
          "base_uri": "https://localhost:8080/",
          "height": 204
        },
        "id": "mj6LbPNaVqja",
        "outputId": "d3bd6d67-fb1d-4223-c326-24fbce29098b"
      },
      "source": [
        "labelsToDrop = ['voc']\n",
        "df.drop(labelsToDrop, axis=1, inplace=True)\n",
        "df.head()"
      ],
      "execution_count": 4,
      "outputs": [
        {
          "output_type": "execute_result",
          "data": {
            "text/html": [
              "<div>\n",
              "<style scoped>\n",
              "    .dataframe tbody tr th:only-of-type {\n",
              "        vertical-align: middle;\n",
              "    }\n",
              "\n",
              "    .dataframe tbody tr th {\n",
              "        vertical-align: top;\n",
              "    }\n",
              "\n",
              "    .dataframe thead th {\n",
              "        text-align: right;\n",
              "    }\n",
              "</style>\n",
              "<table border=\"1\" class=\"dataframe\">\n",
              "  <thead>\n",
              "    <tr style=\"text-align: right;\">\n",
              "      <th></th>\n",
              "      <th>ts</th>\n",
              "      <th>co2</th>\n",
              "      <th>humidity</th>\n",
              "      <th>pm10</th>\n",
              "      <th>pm25</th>\n",
              "      <th>temperature</th>\n",
              "    </tr>\n",
              "  </thead>\n",
              "  <tbody>\n",
              "    <tr>\n",
              "      <th>0</th>\n",
              "      <td>2016-11-21 00:47:03</td>\n",
              "      <td>708.0</td>\n",
              "      <td>72.09</td>\n",
              "      <td>10.2</td>\n",
              "      <td>9.0</td>\n",
              "      <td>20.83</td>\n",
              "    </tr>\n",
              "    <tr>\n",
              "      <th>1</th>\n",
              "      <td>2016-11-21 00:48:03</td>\n",
              "      <td>694.0</td>\n",
              "      <td>70.95</td>\n",
              "      <td>10.9</td>\n",
              "      <td>10.1</td>\n",
              "      <td>21.01</td>\n",
              "    </tr>\n",
              "    <tr>\n",
              "      <th>2</th>\n",
              "      <td>2016-11-21 00:49:03</td>\n",
              "      <td>693.0</td>\n",
              "      <td>69.12</td>\n",
              "      <td>10.2</td>\n",
              "      <td>9.9</td>\n",
              "      <td>21.20</td>\n",
              "    </tr>\n",
              "    <tr>\n",
              "      <th>3</th>\n",
              "      <td>2016-11-21 00:50:03</td>\n",
              "      <td>692.0</td>\n",
              "      <td>68.83</td>\n",
              "      <td>9.6</td>\n",
              "      <td>9.6</td>\n",
              "      <td>21.37</td>\n",
              "    </tr>\n",
              "    <tr>\n",
              "      <th>4</th>\n",
              "      <td>2016-11-21 00:51:03</td>\n",
              "      <td>690.0</td>\n",
              "      <td>68.60</td>\n",
              "      <td>9.4</td>\n",
              "      <td>8.4</td>\n",
              "      <td>21.49</td>\n",
              "    </tr>\n",
              "  </tbody>\n",
              "</table>\n",
              "</div>"
            ],
            "text/plain": [
              "                    ts    co2  humidity  pm10  pm25  temperature\n",
              "0  2016-11-21 00:47:03  708.0     72.09  10.2   9.0        20.83\n",
              "1  2016-11-21 00:48:03  694.0     70.95  10.9  10.1        21.01\n",
              "2  2016-11-21 00:49:03  693.0     69.12  10.2   9.9        21.20\n",
              "3  2016-11-21 00:50:03  692.0     68.83   9.6   9.6        21.37\n",
              "4  2016-11-21 00:51:03  690.0     68.60   9.4   8.4        21.49"
            ]
          },
          "metadata": {
            "tags": []
          },
          "execution_count": 4
        }
      ]
    },
    {
      "cell_type": "markdown",
      "metadata": {
        "id": "QSc4GNUcWkBh"
      },
      "source": [
        "### Temperature labeling \n",
        "\n",
        "We expect that our operating room temperature conditions are ***comprised between 19°C and 26°C***"
      ]
    },
    {
      "cell_type": "code",
      "metadata": {
        "colab": {
          "base_uri": "https://localhost:8080/",
          "height": 204
        },
        "id": "UC1B_EgXV-Nz",
        "outputId": "0de403a4-b41b-4f0f-ca6b-dc07747ad126"
      },
      "source": [
        "minTempC = 19\n",
        "maxTempC = 26\n",
        "df['temperature_label'] = df['temperature'].apply(lambda x : True if (x >= minTempC) & (x <= maxTempC) else False)\n",
        "df.head()"
      ],
      "execution_count": 5,
      "outputs": [
        {
          "output_type": "execute_result",
          "data": {
            "text/html": [
              "<div>\n",
              "<style scoped>\n",
              "    .dataframe tbody tr th:only-of-type {\n",
              "        vertical-align: middle;\n",
              "    }\n",
              "\n",
              "    .dataframe tbody tr th {\n",
              "        vertical-align: top;\n",
              "    }\n",
              "\n",
              "    .dataframe thead th {\n",
              "        text-align: right;\n",
              "    }\n",
              "</style>\n",
              "<table border=\"1\" class=\"dataframe\">\n",
              "  <thead>\n",
              "    <tr style=\"text-align: right;\">\n",
              "      <th></th>\n",
              "      <th>ts</th>\n",
              "      <th>co2</th>\n",
              "      <th>humidity</th>\n",
              "      <th>pm10</th>\n",
              "      <th>pm25</th>\n",
              "      <th>temperature</th>\n",
              "      <th>temperature_label</th>\n",
              "    </tr>\n",
              "  </thead>\n",
              "  <tbody>\n",
              "    <tr>\n",
              "      <th>0</th>\n",
              "      <td>2016-11-21 00:47:03</td>\n",
              "      <td>708.0</td>\n",
              "      <td>72.09</td>\n",
              "      <td>10.2</td>\n",
              "      <td>9.0</td>\n",
              "      <td>20.83</td>\n",
              "      <td>True</td>\n",
              "    </tr>\n",
              "    <tr>\n",
              "      <th>1</th>\n",
              "      <td>2016-11-21 00:48:03</td>\n",
              "      <td>694.0</td>\n",
              "      <td>70.95</td>\n",
              "      <td>10.9</td>\n",
              "      <td>10.1</td>\n",
              "      <td>21.01</td>\n",
              "      <td>True</td>\n",
              "    </tr>\n",
              "    <tr>\n",
              "      <th>2</th>\n",
              "      <td>2016-11-21 00:49:03</td>\n",
              "      <td>693.0</td>\n",
              "      <td>69.12</td>\n",
              "      <td>10.2</td>\n",
              "      <td>9.9</td>\n",
              "      <td>21.20</td>\n",
              "      <td>True</td>\n",
              "    </tr>\n",
              "    <tr>\n",
              "      <th>3</th>\n",
              "      <td>2016-11-21 00:50:03</td>\n",
              "      <td>692.0</td>\n",
              "      <td>68.83</td>\n",
              "      <td>9.6</td>\n",
              "      <td>9.6</td>\n",
              "      <td>21.37</td>\n",
              "      <td>True</td>\n",
              "    </tr>\n",
              "    <tr>\n",
              "      <th>4</th>\n",
              "      <td>2016-11-21 00:51:03</td>\n",
              "      <td>690.0</td>\n",
              "      <td>68.60</td>\n",
              "      <td>9.4</td>\n",
              "      <td>8.4</td>\n",
              "      <td>21.49</td>\n",
              "      <td>True</td>\n",
              "    </tr>\n",
              "  </tbody>\n",
              "</table>\n",
              "</div>"
            ],
            "text/plain": [
              "                    ts    co2  humidity  ...  pm25  temperature  temperature_label\n",
              "0  2016-11-21 00:47:03  708.0     72.09  ...   9.0        20.83               True\n",
              "1  2016-11-21 00:48:03  694.0     70.95  ...  10.1        21.01               True\n",
              "2  2016-11-21 00:49:03  693.0     69.12  ...   9.9        21.20               True\n",
              "3  2016-11-21 00:50:03  692.0     68.83  ...   9.6        21.37               True\n",
              "4  2016-11-21 00:51:03  690.0     68.60  ...   8.4        21.49               True\n",
              "\n",
              "[5 rows x 7 columns]"
            ]
          },
          "metadata": {
            "tags": []
          },
          "execution_count": 5
        }
      ]
    },
    {
      "cell_type": "markdown",
      "metadata": {
        "id": "Stw2dfYcXWvr"
      },
      "source": [
        "### Humidity labeling\n",
        "\n",
        "We expect that our operating room humidity conditions are ***comprised between 45% and 65%***."
      ]
    },
    {
      "cell_type": "code",
      "metadata": {
        "colab": {
          "base_uri": "https://localhost:8080/",
          "height": 204
        },
        "id": "_CYbMivXW3b_",
        "outputId": "e9cae090-2d7b-4a30-b3d7-1a3825ef464a"
      },
      "source": [
        "min_hum = 45\n",
        "max_hum = 65\n",
        "df['humidity_label'] = df['humidity'].apply(lambda x : True if (x >= min_hum) & (x <= max_hum) else False)\n",
        "df.head()"
      ],
      "execution_count": 11,
      "outputs": [
        {
          "output_type": "execute_result",
          "data": {
            "text/html": [
              "<div>\n",
              "<style scoped>\n",
              "    .dataframe tbody tr th:only-of-type {\n",
              "        vertical-align: middle;\n",
              "    }\n",
              "\n",
              "    .dataframe tbody tr th {\n",
              "        vertical-align: top;\n",
              "    }\n",
              "\n",
              "    .dataframe thead th {\n",
              "        text-align: right;\n",
              "    }\n",
              "</style>\n",
              "<table border=\"1\" class=\"dataframe\">\n",
              "  <thead>\n",
              "    <tr style=\"text-align: right;\">\n",
              "      <th></th>\n",
              "      <th>ts</th>\n",
              "      <th>co2</th>\n",
              "      <th>humidity</th>\n",
              "      <th>pm10</th>\n",
              "      <th>pm25</th>\n",
              "      <th>temperature</th>\n",
              "      <th>temperature_label</th>\n",
              "      <th>humidity_label</th>\n",
              "      <th>ISO5</th>\n",
              "    </tr>\n",
              "  </thead>\n",
              "  <tbody>\n",
              "    <tr>\n",
              "      <th>0</th>\n",
              "      <td>2016-11-21 00:47:03</td>\n",
              "      <td>708.0</td>\n",
              "      <td>72.09</td>\n",
              "      <td>10.2</td>\n",
              "      <td>9.0</td>\n",
              "      <td>20.83</td>\n",
              "      <td>True</td>\n",
              "      <td>False</td>\n",
              "      <td>False</td>\n",
              "    </tr>\n",
              "    <tr>\n",
              "      <th>1</th>\n",
              "      <td>2016-11-21 00:48:03</td>\n",
              "      <td>694.0</td>\n",
              "      <td>70.95</td>\n",
              "      <td>10.9</td>\n",
              "      <td>10.1</td>\n",
              "      <td>21.01</td>\n",
              "      <td>True</td>\n",
              "      <td>False</td>\n",
              "      <td>False</td>\n",
              "    </tr>\n",
              "    <tr>\n",
              "      <th>2</th>\n",
              "      <td>2016-11-21 00:49:03</td>\n",
              "      <td>693.0</td>\n",
              "      <td>69.12</td>\n",
              "      <td>10.2</td>\n",
              "      <td>9.9</td>\n",
              "      <td>21.20</td>\n",
              "      <td>True</td>\n",
              "      <td>False</td>\n",
              "      <td>False</td>\n",
              "    </tr>\n",
              "    <tr>\n",
              "      <th>3</th>\n",
              "      <td>2016-11-21 00:50:03</td>\n",
              "      <td>692.0</td>\n",
              "      <td>68.83</td>\n",
              "      <td>9.6</td>\n",
              "      <td>9.6</td>\n",
              "      <td>21.37</td>\n",
              "      <td>True</td>\n",
              "      <td>False</td>\n",
              "      <td>False</td>\n",
              "    </tr>\n",
              "    <tr>\n",
              "      <th>4</th>\n",
              "      <td>2016-11-21 00:51:03</td>\n",
              "      <td>690.0</td>\n",
              "      <td>68.60</td>\n",
              "      <td>9.4</td>\n",
              "      <td>8.4</td>\n",
              "      <td>21.49</td>\n",
              "      <td>True</td>\n",
              "      <td>False</td>\n",
              "      <td>False</td>\n",
              "    </tr>\n",
              "  </tbody>\n",
              "</table>\n",
              "</div>"
            ],
            "text/plain": [
              "                    ts    co2  ...  humidity_label   ISO5\n",
              "0  2016-11-21 00:47:03  708.0  ...           False  False\n",
              "1  2016-11-21 00:48:03  694.0  ...           False  False\n",
              "2  2016-11-21 00:49:03  693.0  ...           False  False\n",
              "3  2016-11-21 00:50:03  692.0  ...           False  False\n",
              "4  2016-11-21 00:51:03  690.0  ...           False  False\n",
              "\n",
              "[5 rows x 9 columns]"
            ]
          },
          "metadata": {
            "tags": []
          },
          "execution_count": 11
        }
      ]
    },
    {
      "cell_type": "markdown",
      "metadata": {
        "id": "4KAs7_AIeIlK"
      },
      "source": [
        "### Micro particles labeling \n",
        "\n",
        "We expect that our operating room micro particles conditions should be smaller than 0.56 for particles of 2.5μm and smaller than 1.76 for particles of 10μm."
      ]
    },
    {
      "cell_type": "code",
      "metadata": {
        "colab": {
          "base_uri": "https://localhost:8080/",
          "height": 289
        },
        "id": "Tf6fmK9YfU-y",
        "outputId": "825a642b-ab64-4928-d902-e4736e8173b4"
      },
      "source": [
        "max_pm25 = 0.56\n",
        "max_pm10 = 1.76\n",
        "\n",
        "df['pm25_label'] = df['pm25'].apply(lambda x : True if (x <= max_pm25) else False)\n",
        "df['pm10_label'] = df['pm10'].apply(lambda x : True if (x <= max_pm10) else False)\n",
        "df.head()"
      ],
      "execution_count": 15,
      "outputs": [
        {
          "output_type": "execute_result",
          "data": {
            "text/html": [
              "<div>\n",
              "<style scoped>\n",
              "    .dataframe tbody tr th:only-of-type {\n",
              "        vertical-align: middle;\n",
              "    }\n",
              "\n",
              "    .dataframe tbody tr th {\n",
              "        vertical-align: top;\n",
              "    }\n",
              "\n",
              "    .dataframe thead th {\n",
              "        text-align: right;\n",
              "    }\n",
              "</style>\n",
              "<table border=\"1\" class=\"dataframe\">\n",
              "  <thead>\n",
              "    <tr style=\"text-align: right;\">\n",
              "      <th></th>\n",
              "      <th>ts</th>\n",
              "      <th>co2</th>\n",
              "      <th>humidity</th>\n",
              "      <th>pm10</th>\n",
              "      <th>pm25</th>\n",
              "      <th>temperature</th>\n",
              "      <th>temperature_label</th>\n",
              "      <th>humidity_label</th>\n",
              "      <th>ISO5</th>\n",
              "      <th>pm25_label</th>\n",
              "      <th>pm10_label</th>\n",
              "    </tr>\n",
              "  </thead>\n",
              "  <tbody>\n",
              "    <tr>\n",
              "      <th>0</th>\n",
              "      <td>2016-11-21 00:47:03</td>\n",
              "      <td>708.0</td>\n",
              "      <td>72.09</td>\n",
              "      <td>10.2</td>\n",
              "      <td>9.0</td>\n",
              "      <td>20.83</td>\n",
              "      <td>True</td>\n",
              "      <td>False</td>\n",
              "      <td>False</td>\n",
              "      <td>False</td>\n",
              "      <td>False</td>\n",
              "    </tr>\n",
              "    <tr>\n",
              "      <th>1</th>\n",
              "      <td>2016-11-21 00:48:03</td>\n",
              "      <td>694.0</td>\n",
              "      <td>70.95</td>\n",
              "      <td>10.9</td>\n",
              "      <td>10.1</td>\n",
              "      <td>21.01</td>\n",
              "      <td>True</td>\n",
              "      <td>False</td>\n",
              "      <td>False</td>\n",
              "      <td>False</td>\n",
              "      <td>False</td>\n",
              "    </tr>\n",
              "    <tr>\n",
              "      <th>2</th>\n",
              "      <td>2016-11-21 00:49:03</td>\n",
              "      <td>693.0</td>\n",
              "      <td>69.12</td>\n",
              "      <td>10.2</td>\n",
              "      <td>9.9</td>\n",
              "      <td>21.20</td>\n",
              "      <td>True</td>\n",
              "      <td>False</td>\n",
              "      <td>False</td>\n",
              "      <td>False</td>\n",
              "      <td>False</td>\n",
              "    </tr>\n",
              "    <tr>\n",
              "      <th>3</th>\n",
              "      <td>2016-11-21 00:50:03</td>\n",
              "      <td>692.0</td>\n",
              "      <td>68.83</td>\n",
              "      <td>9.6</td>\n",
              "      <td>9.6</td>\n",
              "      <td>21.37</td>\n",
              "      <td>True</td>\n",
              "      <td>False</td>\n",
              "      <td>False</td>\n",
              "      <td>False</td>\n",
              "      <td>False</td>\n",
              "    </tr>\n",
              "    <tr>\n",
              "      <th>4</th>\n",
              "      <td>2016-11-21 00:51:03</td>\n",
              "      <td>690.0</td>\n",
              "      <td>68.60</td>\n",
              "      <td>9.4</td>\n",
              "      <td>8.4</td>\n",
              "      <td>21.49</td>\n",
              "      <td>True</td>\n",
              "      <td>False</td>\n",
              "      <td>False</td>\n",
              "      <td>False</td>\n",
              "      <td>False</td>\n",
              "    </tr>\n",
              "  </tbody>\n",
              "</table>\n",
              "</div>"
            ],
            "text/plain": [
              "                    ts    co2  humidity  ...   ISO5  pm25_label  pm10_label\n",
              "0  2016-11-21 00:47:03  708.0     72.09  ...  False       False       False\n",
              "1  2016-11-21 00:48:03  694.0     70.95  ...  False       False       False\n",
              "2  2016-11-21 00:49:03  693.0     69.12  ...  False       False       False\n",
              "3  2016-11-21 00:50:03  692.0     68.83  ...  False       False       False\n",
              "4  2016-11-21 00:51:03  690.0     68.60  ...  False       False       False\n",
              "\n",
              "[5 rows x 11 columns]"
            ]
          },
          "metadata": {
            "tags": []
          },
          "execution_count": 15
        }
      ]
    },
    {
      "cell_type": "code",
      "metadata": {
        "colab": {
          "base_uri": "https://localhost:8080/",
          "height": 289
        },
        "id": "NLf7HPmLXlnF",
        "outputId": "24ebcf4b-0a86-4a32-a8ae-979295690371"
      },
      "source": [
        "df['ISO5'] = np.where((df['temperature_label'] == True) & (df['humidity_label'] == True) & (df['pm10_label'] == True) & (df['pm25_label'] == True), True, False)\n",
        "df.head()"
      ],
      "execution_count": 22,
      "outputs": [
        {
          "output_type": "execute_result",
          "data": {
            "text/html": [
              "<div>\n",
              "<style scoped>\n",
              "    .dataframe tbody tr th:only-of-type {\n",
              "        vertical-align: middle;\n",
              "    }\n",
              "\n",
              "    .dataframe tbody tr th {\n",
              "        vertical-align: top;\n",
              "    }\n",
              "\n",
              "    .dataframe thead th {\n",
              "        text-align: right;\n",
              "    }\n",
              "</style>\n",
              "<table border=\"1\" class=\"dataframe\">\n",
              "  <thead>\n",
              "    <tr style=\"text-align: right;\">\n",
              "      <th></th>\n",
              "      <th>ts</th>\n",
              "      <th>co2</th>\n",
              "      <th>humidity</th>\n",
              "      <th>pm10</th>\n",
              "      <th>pm25</th>\n",
              "      <th>temperature</th>\n",
              "      <th>temperature_label</th>\n",
              "      <th>humidity_label</th>\n",
              "      <th>ISO5</th>\n",
              "      <th>pm25_label</th>\n",
              "      <th>pm10_label</th>\n",
              "    </tr>\n",
              "  </thead>\n",
              "  <tbody>\n",
              "    <tr>\n",
              "      <th>0</th>\n",
              "      <td>2016-11-21 00:47:03</td>\n",
              "      <td>708.0</td>\n",
              "      <td>72.09</td>\n",
              "      <td>10.2</td>\n",
              "      <td>9.0</td>\n",
              "      <td>20.83</td>\n",
              "      <td>True</td>\n",
              "      <td>False</td>\n",
              "      <td>False</td>\n",
              "      <td>False</td>\n",
              "      <td>False</td>\n",
              "    </tr>\n",
              "    <tr>\n",
              "      <th>1</th>\n",
              "      <td>2016-11-21 00:48:03</td>\n",
              "      <td>694.0</td>\n",
              "      <td>70.95</td>\n",
              "      <td>10.9</td>\n",
              "      <td>10.1</td>\n",
              "      <td>21.01</td>\n",
              "      <td>True</td>\n",
              "      <td>False</td>\n",
              "      <td>False</td>\n",
              "      <td>False</td>\n",
              "      <td>False</td>\n",
              "    </tr>\n",
              "    <tr>\n",
              "      <th>2</th>\n",
              "      <td>2016-11-21 00:49:03</td>\n",
              "      <td>693.0</td>\n",
              "      <td>69.12</td>\n",
              "      <td>10.2</td>\n",
              "      <td>9.9</td>\n",
              "      <td>21.20</td>\n",
              "      <td>True</td>\n",
              "      <td>False</td>\n",
              "      <td>False</td>\n",
              "      <td>False</td>\n",
              "      <td>False</td>\n",
              "    </tr>\n",
              "    <tr>\n",
              "      <th>3</th>\n",
              "      <td>2016-11-21 00:50:03</td>\n",
              "      <td>692.0</td>\n",
              "      <td>68.83</td>\n",
              "      <td>9.6</td>\n",
              "      <td>9.6</td>\n",
              "      <td>21.37</td>\n",
              "      <td>True</td>\n",
              "      <td>False</td>\n",
              "      <td>False</td>\n",
              "      <td>False</td>\n",
              "      <td>False</td>\n",
              "    </tr>\n",
              "    <tr>\n",
              "      <th>4</th>\n",
              "      <td>2016-11-21 00:51:03</td>\n",
              "      <td>690.0</td>\n",
              "      <td>68.60</td>\n",
              "      <td>9.4</td>\n",
              "      <td>8.4</td>\n",
              "      <td>21.49</td>\n",
              "      <td>True</td>\n",
              "      <td>False</td>\n",
              "      <td>False</td>\n",
              "      <td>False</td>\n",
              "      <td>False</td>\n",
              "    </tr>\n",
              "  </tbody>\n",
              "</table>\n",
              "</div>"
            ],
            "text/plain": [
              "                    ts    co2  humidity  ...   ISO5  pm25_label  pm10_label\n",
              "0  2016-11-21 00:47:03  708.0     72.09  ...  False       False       False\n",
              "1  2016-11-21 00:48:03  694.0     70.95  ...  False       False       False\n",
              "2  2016-11-21 00:49:03  693.0     69.12  ...  False       False       False\n",
              "3  2016-11-21 00:50:03  692.0     68.83  ...  False       False       False\n",
              "4  2016-11-21 00:51:03  690.0     68.60  ...  False       False       False\n",
              "\n",
              "[5 rows x 11 columns]"
            ]
          },
          "metadata": {
            "tags": []
          },
          "execution_count": 22
        }
      ]
    },
    {
      "cell_type": "code",
      "metadata": {
        "id": "lVqel5XmeA-V"
      },
      "source": [
        ""
      ],
      "execution_count": null,
      "outputs": []
    },
    {
      "cell_type": "code",
      "metadata": {
        "colab": {
          "base_uri": "https://localhost:8080/"
        },
        "id": "2rHUzW7gX9vG",
        "outputId": "7e8789c2-41a4-4c26-9af2-198af52359ea"
      },
      "source": [
        "print(df[df['ISO5'] == True].sum())"
      ],
      "execution_count": 23,
      "outputs": [
        {
          "output_type": "stream",
          "text": [
            "ts                   2016-11-22 19:01:032016-11-22 20:42:02\n",
            "co2                                                    1208\n",
            "humidity                                              92.28\n",
            "pm10                                                      1\n",
            "pm25                                                      1\n",
            "temperature                                            43.2\n",
            "temperature_label                                         2\n",
            "humidity_label                                            2\n",
            "ISO5                                                      2\n",
            "pm25_label                                                2\n",
            "pm10_label                                                2\n",
            "dtype: object\n"
          ],
          "name": "stdout"
        }
      ]
    }
  ]
}